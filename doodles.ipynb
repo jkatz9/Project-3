{
 "cells": [
  {
   "cell_type": "code",
   "execution_count": null,
   "id": "e0c01087",
   "metadata": {},
   "outputs": [],
   "source": [
    "import os\n",
    "import sys\n",
    "\n",
    "os.environ"
   ]
  },
  {
   "cell_type": "code",
   "execution_count": 2,
   "id": "5a8f4d4c",
   "metadata": {},
   "outputs": [],
   "source": [
    "def get_attributes(object):\n",
    "    attributes = dir(object)\n",
    "    filtered_attributes = [\n",
    "        attr for attr in attributes if not attr.startswith('__')]\n",
    "    return filtered_attributes\n",
    "\n",
    "\n",
    "def get_methods(object):\n",
    "    methods = dir(object)\n",
    "    filtered_methods = [\n",
    "        method for method in methods if not method.startswith('__') and callable(getattr(object, method))]\n",
    "    return filtered_methods\n",
    "\n",
    "\n",
    "def get_properties(object):\n",
    "    properties = dir(object)\n",
    "    filtered_properties = [\n",
    "        prop for prop in properties if not prop.startswith('__') and not callable(getattr(object, prop))]\n",
    "    return filtered_properties"
   ]
  },
  {
   "cell_type": "code",
   "execution_count": 2,
   "id": "60d6241a",
   "metadata": {},
   "outputs": [
    {
     "name": "stdout",
     "output_type": "stream",
     "text": [
      "Author list 0 loaded from file.\n",
      "Author list 1 loaded from file.\n",
      "Author list 2 loaded from file.\n",
      "Author list 3 loaded from file.\n",
      "Author list 4 loaded from file.\n",
      "Author list 5 loaded from file.\n",
      "Author list 6 loaded from file.\n",
      "Author list 7 loaded from file.\n",
      "Author list 8 loaded from file.\n",
      "Author list 9 loaded from file.\n"
     ]
    }
   ],
   "source": [
    "import requests\n",
    "import json\n",
    "import pandas as pd\n",
    "from pprint import pprint\n",
    "import pickle\n",
    "\n",
    "base_url = \"https://api.openalex.org/\"\n",
    "email = \"katz.562@osu.edu\"\n",
    "\n",
    "\n",
    "def pickle_dump(data, filename):\n",
    "    with open(filename, 'wb') as f:\n",
    "        pickle.dump(data, f)\n",
    "\n",
    "\n",
    "author_list = []\n",
    "for j in range(10):\n",
    "    try:\n",
    "        author_list.extend(pickle.load(\n",
    "            open(f\"data/author_list_{j}.pkl\", 'rb')))\n",
    "        print(f\"Author list {j} loaded from file.\")\n",
    "    except FileNotFoundError:\n",
    "        sample = 10000\n",
    "        per_page = 200\n",
    "        while j < 10:\n",
    "            new_author_list = []\n",
    "            print(f\"{j}th sample\")\n",
    "            seed = 3142+j\n",
    "            i = 1\n",
    "            while i <= sample/per_page:\n",
    "                print(f\"Page {i}\")\n",
    "                response = requests.get(base_url + \"authors\",\n",
    "                                        params={'sample': sample, 'seed': seed, 'per-page': per_page, 'page': i})\n",
    "                data = response.json()\n",
    "                if len(data['results']) == 0:\n",
    "                    break\n",
    "                new_author_list.extend(data['results'])\n",
    "                i += 1\n",
    "            filename = f\"data/author_list_{j}.json\"\n",
    "            print(f'Saving {len(new_author_list)} authors to {filename}')\n",
    "            pickle_dump(new_author_list, f\"data/author_list_{j}.pkl\")\n",
    "            j += 1"
   ]
  },
  {
   "cell_type": "code",
   "execution_count": 3,
   "id": "14e9694d",
   "metadata": {},
   "outputs": [],
   "source": [
    "authors_df = pd.DataFrame(author_list)"
   ]
  },
  {
   "cell_type": "code",
   "execution_count": 4,
   "id": "c61e4dba",
   "metadata": {},
   "outputs": [],
   "source": [
    "\n",
    "# unnecessary_columns = ['orcid', 'ids', 'affiliations', 'last_known_institutions',\n",
    "#    'summary_stats', 'created_date', 'updated_date', 'topics', 'topic_share', 'relevance_score']\n",
    "df = pd.DataFrame(authors_df['display_name'])"
   ]
  },
  {
   "cell_type": "code",
   "execution_count": 5,
   "id": "3e31b1ff",
   "metadata": {},
   "outputs": [],
   "source": [
    "def fetch_works(api_url):\n",
    "    params = {\n",
    "        'per_page': 200\n",
    "    }\n",
    "    response = requests.get(api_url, params)\n",
    "    if response.status_code == 200:\n",
    "        return [work['id'] for work in response.json()['results']]\n",
    "    else:\n",
    "        return None\n",
    "\n",
    "\n",
    "n = 10  # Number of rows to process\n",
    "df.loc[:n-1, 'works'] = df.loc[:n-1, 'works_api_url'].apply(fetch_works)"
   ]
  },
  {
   "cell_type": "code",
   "execution_count": 35,
   "id": "38fedb2e",
   "metadata": {},
   "outputs": [],
   "source": [
    "import regex as re\n",
    "\n",
    "\n",
    "def get_first_name(display_name):\n",
    "    first_name = r'([A-Z][a-z]+)'\n",
    "    match = re.search(first_name, display_name)\n",
    "    if match:\n",
    "        return match.group(1)\n",
    "    else:\n",
    "        return None\n",
    "\n",
    "\n",
    "def get_surname(display_name):\n",
    "    match = re.search(r'\\s([A-Z][a-z]+)$', display_name)\n",
    "    if match:\n",
    "        return match.group(1)\n",
    "    else:\n",
    "        return None\n",
    "\n",
    "\n",
    "df['surname'] = df['display_name'].apply(get_surname)\n",
    "df['first_name'] = df['display_name'].apply(get_first_name)"
   ]
  },
  {
   "cell_type": "code",
   "execution_count": 43,
   "id": "0bfc1a16",
   "metadata": {},
   "outputs": [],
   "source": [
    "# import regex as re\n",
    "\n",
    "# # Define the regex pattern\n",
    "# pattern = r'^(?!.*\\b(?:[A-Z]\\.?\\s?){1,3}(?:[a-z]+\\s)*[A-Z][\\p{L}]*\\b).+$'\n",
    "\n",
    "\n",
    "# # Filter the DataFrame using regex with a lambda function\n",
    "# filtered_df = df[df['display_name'].apply(\n",
    "#     lambda x: re.match(pattern, x) is not None)]\n",
    "\n",
    "# # Display the filtered DataFrame\n",
    "# filtered_df.head(100)"
   ]
  },
  {
   "cell_type": "code",
   "execution_count": 5,
   "id": "73978ab9",
   "metadata": {},
   "outputs": [
    {
     "name": "stderr",
     "output_type": "stream",
     "text": [
      "/var/folders/ph/vmwntg591nz4p53wxs1w08dr0000gn/T/ipykernel_68138/3982131095.py:9: SettingWithCopyWarning: \n",
      "A value is trying to be set on a copy of a slice from a DataFrame.\n",
      "Try using .loc[row_indexer,col_indexer] = value instead\n",
      "\n",
      "See the caveats in the documentation: https://pandas.pydata.org/pandas-docs/stable/user_guide/indexing.html#returning-a-view-versus-a-copy\n",
      "  filtered_df.loc[:,\n",
      "/var/folders/ph/vmwntg591nz4p53wxs1w08dr0000gn/T/ipykernel_68138/3982131095.py:11: SettingWithCopyWarning: \n",
      "A value is trying to be set on a copy of a slice from a DataFrame.\n",
      "Try using .loc[row_indexer,col_indexer] = value instead\n",
      "\n",
      "See the caveats in the documentation: https://pandas.pydata.org/pandas-docs/stable/user_guide/indexing.html#returning-a-view-versus-a-copy\n",
      "  filtered_df.loc[:,\n"
     ]
    },
    {
     "data": {
      "application/vnd.microsoft.datawrangler.viewer.v0+json": {
       "columns": [
        {
         "name": "index",
         "rawType": "int64",
         "type": "integer"
        },
        {
         "name": "display_name",
         "rawType": "object",
         "type": "string"
        },
        {
         "name": "strip_display_name",
         "rawType": "object",
         "type": "string"
        },
        {
         "name": "first",
         "rawType": "object",
         "type": "string"
        },
        {
         "name": "last",
         "rawType": "object",
         "type": "string"
        }
       ],
       "conversionMethod": "pd.DataFrame",
       "ref": "635f361c-0d64-4c23-b4fa-73a989487927",
       "rows": [
        [
         "0",
         "Resty Fastabikul Khaerat",
         "Resty Fastabikul Khaerat",
         "Resty",
         "Khaerat"
        ],
        [
         "2",
         "Xinshun Li",
         "Xinshun Li",
         "Xinshun",
         "Li"
        ],
        [
         "8",
         "堀越さな恵",
         "堀越さな恵",
         "堀越さな恵",
         "堀越さな恵"
        ],
        [
         "9",
         "Debbie Northin",
         "Debbie Northin",
         "Debbie",
         "Northin"
        ],
        [
         "10",
         "Ambrish",
         "Ambrish",
         "Ambrish",
         "Ambrish"
        ],
        [
         "11",
         "María Olagüe Julián",
         "María Olagüe Julián",
         "María",
         "Julián"
        ],
        [
         "12",
         "Antoine Veillette",
         "Antoine Veillette",
         "Antoine",
         "Veillette"
        ],
        [
         "13",
         "Deepak Chowdhury",
         "Deepak Chowdhury",
         "Deepak",
         "Chowdhury"
        ],
        [
         "16",
         "Shou‐Guo Chen",
         "Shou‐Guo Chen",
         "Shou‐Guo",
         "Chen"
        ],
        [
         "20",
         "王國敏",
         "王國敏",
         "王國敏",
         "王國敏"
        ],
        [
         "21",
         "صانعی نژاد",
         "صانعی نژاد",
         "صانعی",
         "نژاد"
        ],
        [
         "22",
         "杜峻峰",
         "杜峻峰",
         "杜峻峰",
         "杜峻峰"
        ],
        [
         "23",
         "David Florido del Corra",
         "David Florido del Corra",
         "David",
         "Corra"
        ],
        [
         "25",
         "Ramli Hatma",
         "Ramli Hatma",
         "Ramli",
         "Hatma"
        ],
        [
         "26",
         "Yong Concepción Álvarez",
         "Yong Concepción Álvarez",
         "Yong",
         "Álvarez"
        ],
        [
         "27",
         "Sultan Mohamed Al Mandhari",
         "Sultan Mohamed Al Mandhari",
         "Sultan",
         "Mandhari"
        ],
        [
         "28",
         "Maritza Zulema Yamberla Maigua",
         "Maritza Zulema Yamberla Maigua",
         "Maritza",
         "Maigua"
        ],
        [
         "30",
         "Raf Clark",
         "Raf Clark",
         "Raf",
         "Clark"
        ],
        [
         "34",
         "田上英明",
         "田上英明",
         "田上英明",
         "田上英明"
        ],
        [
         "35",
         "Qulin Shen",
         "Qulin Shen",
         "Qulin",
         "Shen"
        ],
        [
         "36",
         "Tashi Tsering Josayma",
         "Tashi Tsering Josayma",
         "Tashi",
         "Josayma"
        ],
        [
         "37",
         "Mingsheng Jiang",
         "Mingsheng Jiang",
         "Mingsheng",
         "Jiang"
        ],
        [
         "38",
         "长心宽",
         "长心宽",
         "长心宽",
         "长心宽"
        ],
        [
         "39",
         "Annelise Meis",
         "Annelise Meis",
         "Annelise",
         "Meis"
        ],
        [
         "40",
         "Belgacem Belarbi",
         "Belgacem Belarbi",
         "Belgacem",
         "Belarbi"
        ],
        [
         "41",
         "Лупал Николай Васильевич",
         "Лупал Николай Васильевич",
         "Лупал",
         "Васильевич"
        ],
        [
         "42",
         "Catherine Mela",
         "Catherine Mela",
         "Catherine",
         "Mela"
        ],
        [
         "43",
         "Nurhidayah Amir",
         "Nurhidayah Amir",
         "Nurhidayah",
         "Amir"
        ],
        [
         "44",
         "Hironobu Ito",
         "Hironobu Ito",
         "Hironobu",
         "Ito"
        ],
        [
         "46",
         "李令军",
         "李令军",
         "李令军",
         "李令军"
        ],
        [
         "47",
         "Rade Miletić",
         "Rade Miletić",
         "Rade",
         "Miletić"
        ],
        [
         "48",
         "吉田晃典",
         "吉田晃典",
         "吉田晃典",
         "吉田晃典"
        ],
        [
         "50",
         "Raúl Ernesto Ramos Peralta",
         "Raúl Ernesto Ramos Peralta",
         "Raúl",
         "Peralta"
        ],
        [
         "51",
         "Kuang-An Wan",
         "Kuang-An Wan",
         "Kuang-An",
         "Wan"
        ],
        [
         "52",
         "Maria Leandra de Souza Silva",
         "Maria Leandra de Souza Silva",
         "Maria",
         "Silva"
        ],
        [
         "55",
         "punit bhatia",
         "punit bhatia",
         "punit",
         "bhatia"
        ],
        [
         "56",
         "Laura Sujo Montes",
         "Laura Sujo Montes",
         "Laura",
         "Montes"
        ],
        [
         "57",
         "Zvi Rosenstock",
         "Zvi Rosenstock",
         "Zvi",
         "Rosenstock"
        ],
        [
         "58",
         "Oliver Klar",
         "Oliver Klar",
         "Oliver",
         "Klar"
        ],
        [
         "60",
         "María Bezunartea Oroz",
         "María Bezunartea Oroz",
         "María",
         "Oroz"
        ],
        [
         "61",
         "Filip Krásný",
         "Filip Krásný",
         "Filip",
         "Krásný"
        ],
        [
         "62",
         "余红伟",
         "余红伟",
         "余红伟",
         "余红伟"
        ],
        [
         "63",
         "Putririani",
         "Putririani",
         "Putririani",
         "Putririani"
        ],
        [
         "64",
         "Anchin",
         "Anchin",
         "Anchin",
         "Anchin"
        ],
        [
         "67",
         "Brendan J. Connolly",
         "Brendan J Connolly",
         "Brendan",
         "Connolly"
        ],
        [
         "68",
         "Hyuk Choe",
         "Hyuk Choe",
         "Hyuk",
         "Choe"
        ],
        [
         "69",
         "Jitendra Kapoor",
         "Jitendra Kapoor",
         "Jitendra",
         "Kapoor"
        ],
        [
         "70",
         "菜穂子 角田",
         "菜穂子 角田",
         "菜穂子",
         "角田"
        ],
        [
         "71",
         "飛宇馬 栗原",
         "飛宇馬 栗原",
         "飛宇馬",
         "栗原"
        ],
        [
         "75",
         "Elizabeth Gabel",
         "Elizabeth Gabel",
         "Elizabeth",
         "Gabel"
        ]
       ],
       "shape": {
        "columns": 4,
        "rows": 100
       }
      },
      "text/html": [
       "<div>\n",
       "<style scoped>\n",
       "    .dataframe tbody tr th:only-of-type {\n",
       "        vertical-align: middle;\n",
       "    }\n",
       "\n",
       "    .dataframe tbody tr th {\n",
       "        vertical-align: top;\n",
       "    }\n",
       "\n",
       "    .dataframe thead th {\n",
       "        text-align: right;\n",
       "    }\n",
       "</style>\n",
       "<table border=\"1\" class=\"dataframe\">\n",
       "  <thead>\n",
       "    <tr style=\"text-align: right;\">\n",
       "      <th></th>\n",
       "      <th>display_name</th>\n",
       "      <th>strip_display_name</th>\n",
       "      <th>first</th>\n",
       "      <th>last</th>\n",
       "    </tr>\n",
       "  </thead>\n",
       "  <tbody>\n",
       "    <tr>\n",
       "      <th>0</th>\n",
       "      <td>Resty Fastabikul Khaerat</td>\n",
       "      <td>Resty Fastabikul Khaerat</td>\n",
       "      <td>Resty</td>\n",
       "      <td>Khaerat</td>\n",
       "    </tr>\n",
       "    <tr>\n",
       "      <th>2</th>\n",
       "      <td>Xinshun Li</td>\n",
       "      <td>Xinshun Li</td>\n",
       "      <td>Xinshun</td>\n",
       "      <td>Li</td>\n",
       "    </tr>\n",
       "    <tr>\n",
       "      <th>8</th>\n",
       "      <td>堀越さな恵</td>\n",
       "      <td>堀越さな恵</td>\n",
       "      <td>堀越さな恵</td>\n",
       "      <td>堀越さな恵</td>\n",
       "    </tr>\n",
       "    <tr>\n",
       "      <th>9</th>\n",
       "      <td>Debbie Northin</td>\n",
       "      <td>Debbie Northin</td>\n",
       "      <td>Debbie</td>\n",
       "      <td>Northin</td>\n",
       "    </tr>\n",
       "    <tr>\n",
       "      <th>10</th>\n",
       "      <td>Ambrish</td>\n",
       "      <td>Ambrish</td>\n",
       "      <td>Ambrish</td>\n",
       "      <td>Ambrish</td>\n",
       "    </tr>\n",
       "    <tr>\n",
       "      <th>...</th>\n",
       "      <td>...</td>\n",
       "      <td>...</td>\n",
       "      <td>...</td>\n",
       "      <td>...</td>\n",
       "    </tr>\n",
       "    <tr>\n",
       "      <th>138</th>\n",
       "      <td>付权茂</td>\n",
       "      <td>付权茂</td>\n",
       "      <td>付权茂</td>\n",
       "      <td>付权茂</td>\n",
       "    </tr>\n",
       "    <tr>\n",
       "      <th>139</th>\n",
       "      <td>Jawharah Fahad Abdul Aziz Al-Fehaid</td>\n",
       "      <td>Jawharah Fahad Abdul Aziz Al-Fehaid</td>\n",
       "      <td>Jawharah</td>\n",
       "      <td>Al-Fehaid</td>\n",
       "    </tr>\n",
       "    <tr>\n",
       "      <th>140</th>\n",
       "      <td>Steven Tschantzk</td>\n",
       "      <td>Steven Tschantzk</td>\n",
       "      <td>Steven</td>\n",
       "      <td>Tschantzk</td>\n",
       "    </tr>\n",
       "    <tr>\n",
       "      <th>143</th>\n",
       "      <td>Ερμής Γκίνης</td>\n",
       "      <td>Ερμής Γκίνης</td>\n",
       "      <td>Ερμής</td>\n",
       "      <td>Γκίνης</td>\n",
       "    </tr>\n",
       "    <tr>\n",
       "      <th>144</th>\n",
       "      <td>Shaila Alvarez-Junco</td>\n",
       "      <td>Shaila Alvarez-Junco</td>\n",
       "      <td>Shaila</td>\n",
       "      <td>Alvarez-Junco</td>\n",
       "    </tr>\n",
       "  </tbody>\n",
       "</table>\n",
       "<p>100 rows × 4 columns</p>\n",
       "</div>"
      ],
      "text/plain": [
       "                            display_name                   strip_display_name  \\\n",
       "0               Resty Fastabikul Khaerat             Resty Fastabikul Khaerat   \n",
       "2                             Xinshun Li                           Xinshun Li   \n",
       "8                                  堀越さな恵                                堀越さな恵   \n",
       "9                         Debbie Northin                       Debbie Northin   \n",
       "10                               Ambrish                              Ambrish   \n",
       "..                                   ...                                  ...   \n",
       "138                                  付权茂                                  付权茂   \n",
       "139  Jawharah Fahad Abdul Aziz Al-Fehaid  Jawharah Fahad Abdul Aziz Al-Fehaid   \n",
       "140                     Steven Tschantzk                     Steven Tschantzk   \n",
       "143                         Ερμής Γκίνης                         Ερμής Γκίνης   \n",
       "144                 Shaila Alvarez-Junco                 Shaila Alvarez-Junco   \n",
       "\n",
       "        first           last  \n",
       "0       Resty        Khaerat  \n",
       "2     Xinshun             Li  \n",
       "8       堀越さな恵          堀越さな恵  \n",
       "9      Debbie        Northin  \n",
       "10    Ambrish        Ambrish  \n",
       "..        ...            ...  \n",
       "138       付权茂            付权茂  \n",
       "139  Jawharah      Al-Fehaid  \n",
       "140    Steven      Tschantzk  \n",
       "143     Ερμής         Γκίνης  \n",
       "144    Shaila  Alvarez-Junco  \n",
       "\n",
       "[100 rows x 4 columns]"
      ]
     },
     "execution_count": 5,
     "metadata": {},
     "output_type": "execute_result"
    }
   ],
   "source": [
    "import re\n",
    "df['strip_display_name'] = df['display_name'].str.replace(\n",
    "    '\\.\\s?', ' ', regex=True)\n",
    "\n",
    "# Filter the DataFrame\n",
    "filtered_df = df[~df['strip_display_name'].str.match(r'^\\b\\w{1,2}\\b ')]\n",
    "\n",
    "# Split 'strip_display_name' into 'first' and 'last' using .loc to avoid SettingWithCopyWarning\n",
    "filtered_df.loc[:,\n",
    "                'first'] = filtered_df['strip_display_name'].str.split().str[0]\n",
    "filtered_df.loc[:,\n",
    "                'last'] = filtered_df['strip_display_name'].str.split().str[-1]\n",
    "filtered_df.head(100)"
   ]
  },
  {
   "cell_type": "code",
   "execution_count": 34,
   "id": "b288b3f9",
   "metadata": {},
   "outputs": [
    {
     "name": "stderr",
     "output_type": "stream",
     "text": [
      "/Users/jukatz/miniconda3/lib/python3.11/site-packages/gender_ai/__init__.py:123: RuntimeWarning: overflow encountered in exp\n",
      "  return 1.0 / (1.0 + np.exp(-z))\n"
     ]
    }
   ],
   "source": [
    "# from chicksexer import predict_gender\n",
    "import gender_ai as g\n",
    "import gender_guesser.detector as gender_guesser\n",
    "d = gender_guesser.Detector()\n",
    "\n",
    "\n",
    "gdf = filtered_df.copy().head(100)\n",
    "gdf['gender_guesser'] = gdf['first'].apply(lambda x: d.get_gender(x))\n",
    "gdf['gender_ai'] = gdf['first'].apply(lambda x: g.predict(x))\n",
    "# gdf['chicksexer'] = gdf['first'].apply(lambda x: predict_gender(x))"
   ]
  },
  {
   "cell_type": "code",
   "execution_count": null,
   "id": "898b6614",
   "metadata": {},
   "outputs": [],
   "source": [
    "from openai import OpenAI\n",
    "import os\n",
    "\n",
    "client = OpenAI(api_key=os.getenv(\"OPENAI_API_KEY\"))\n",
    "\n",
    "\n",
    "def get_gender_prediction(input_string):\n",
    "    response = client.responses.create(\n",
    "        model='gpt-3.5-turbo',\n",
    "        instructions='You are a helpful assistant that determines the most likely gender of a person with specified name: responding only with \"Male\", \"Female\", or \"Unknown\".',\n",
    "        input=f\"{input_string}.\"\n",
    "    )\n",
    "    # Extract the response text\n",
    "    gender = response.output_text\n",
    "    return gender"
   ]
  },
  {
   "cell_type": "code",
   "execution_count": 44,
   "id": "20c1fea3",
   "metadata": {},
   "outputs": [],
   "source": [
    "gdf['gpt2'] = gdf['display_name'].apply(lambda x: get_gender_prediction(x))"
   ]
  },
  {
   "cell_type": "code",
   "execution_count": 45,
   "id": "bfec83bf",
   "metadata": {},
   "outputs": [
    {
     "data": {
      "application/vnd.microsoft.datawrangler.viewer.v0+json": {
       "columns": [
        {
         "name": "index",
         "rawType": "int64",
         "type": "integer"
        },
        {
         "name": "display_name",
         "rawType": "object",
         "type": "string"
        },
        {
         "name": "strip_display_name",
         "rawType": "object",
         "type": "string"
        },
        {
         "name": "first",
         "rawType": "object",
         "type": "string"
        },
        {
         "name": "last",
         "rawType": "object",
         "type": "string"
        },
        {
         "name": "gender_guesser",
         "rawType": "object",
         "type": "string"
        },
        {
         "name": "gender_ai",
         "rawType": "object",
         "type": "string"
        },
        {
         "name": "gpt",
         "rawType": "object",
         "type": "string"
        },
        {
         "name": "gpt2",
         "rawType": "object",
         "type": "string"
        }
       ],
       "conversionMethod": "pd.DataFrame",
       "ref": "f40146e5-2154-4c50-92bf-6356a90888fc",
       "rows": [
        [
         "0",
         "Resty Fastabikul Khaerat",
         "Resty Fastabikul Khaerat",
         "Resty",
         "Khaerat",
         "unknown",
         "Girl",
         "Unknown",
         "Unknown"
        ],
        [
         "2",
         "Xinshun Li",
         "Xinshun Li",
         "Xinshun",
         "Li",
         "unknown",
         "probably a Boy",
         "Male",
         "Male"
        ],
        [
         "8",
         "堀越さな恵",
         "堀越さな恵",
         "堀越さな恵",
         "堀越さな恵",
         "unknown",
         "Boy",
         "Female",
         "Female"
        ],
        [
         "9",
         "Debbie Northin",
         "Debbie Northin",
         "Debbie",
         "Northin",
         "female",
         "Girl",
         "Female",
         "Female"
        ],
        [
         "10",
         "Ambrish",
         "Ambrish",
         "Ambrish",
         "Ambrish",
         "unknown",
         "Girl",
         "Male",
         "Male"
        ],
        [
         "11",
         "María Olagüe Julián",
         "María Olagüe Julián",
         "María",
         "Julián",
         "mostly_female",
         "Girl",
         "Female",
         "Female"
        ],
        [
         "12",
         "Antoine Veillette",
         "Antoine Veillette",
         "Antoine",
         "Veillette",
         "male",
         "Girl",
         "Male",
         "Male"
        ],
        [
         "13",
         "Deepak Chowdhury",
         "Deepak Chowdhury",
         "Deepak",
         "Chowdhury",
         "mostly_male",
         "Boy",
         "Male",
         "Male"
        ],
        [
         "16",
         "Shou‐Guo Chen",
         "Shou‐Guo Chen",
         "Shou‐Guo",
         "Chen",
         "unknown",
         "Girl",
         "Unknown",
         "Male"
        ],
        [
         "20",
         "王國敏",
         "王國敏",
         "王國敏",
         "王國敏",
         "unknown",
         "Girl",
         "Female",
         "Unknown"
        ],
        [
         "21",
         "صانعی نژاد",
         "صانعی نژاد",
         "صانعی",
         "نژاد",
         "unknown",
         "Girl",
         "Unknown",
         "Unknown"
        ],
        [
         "22",
         "杜峻峰",
         "杜峻峰",
         "杜峻峰",
         "杜峻峰",
         "unknown",
         "Girl",
         "Unknown",
         "Unknown"
        ],
        [
         "23",
         "David Florido del Corra",
         "David Florido del Corra",
         "David",
         "Corra",
         "male",
         "Boy",
         "Male",
         "Unknown"
        ],
        [
         "25",
         "Ramli Hatma",
         "Ramli Hatma",
         "Ramli",
         "Hatma",
         "unknown",
         "Girl",
         "Male",
         "Male"
        ],
        [
         "26",
         "Yong Concepción Álvarez",
         "Yong Concepción Álvarez",
         "Yong",
         "Álvarez",
         "mostly_male",
         "Boy",
         "Unknown",
         "Unknown"
        ],
        [
         "27",
         "Sultan Mohamed Al Mandhari",
         "Sultan Mohamed Al Mandhari",
         "Sultan",
         "Mandhari",
         "male",
         "Boy",
         "Male",
         "Male"
        ],
        [
         "28",
         "Maritza Zulema Yamberla Maigua",
         "Maritza Zulema Yamberla Maigua",
         "Maritza",
         "Maigua",
         "female",
         "Boy",
         "Female",
         "Female"
        ],
        [
         "30",
         "Raf Clark",
         "Raf Clark",
         "Raf",
         "Clark",
         "unknown",
         "Girl",
         "Male",
         "Male"
        ],
        [
         "34",
         "田上英明",
         "田上英明",
         "田上英明",
         "田上英明",
         "unknown",
         "Boy",
         "Unknown",
         "Male"
        ],
        [
         "35",
         "Qulin Shen",
         "Qulin Shen",
         "Qulin",
         "Shen",
         "unknown",
         "Boy",
         "Unknown",
         "Unknown"
        ],
        [
         "36",
         "Tashi Tsering Josayma",
         "Tashi Tsering Josayma",
         "Tashi",
         "Josayma",
         "unknown",
         "Girl",
         "Unknown",
         "Unknown"
        ],
        [
         "37",
         "Mingsheng Jiang",
         "Mingsheng Jiang",
         "Mingsheng",
         "Jiang",
         "unknown",
         "Girl",
         "Male",
         "Male"
        ],
        [
         "38",
         "长心宽",
         "长心宽",
         "长心宽",
         "长心宽",
         "unknown",
         "Girl",
         "Unknown",
         "Unknown"
        ],
        [
         "39",
         "Annelise Meis",
         "Annelise Meis",
         "Annelise",
         "Meis",
         "female",
         "Girl",
         "Female",
         "Female"
        ],
        [
         "40",
         "Belgacem Belarbi",
         "Belgacem Belarbi",
         "Belgacem",
         "Belarbi",
         "unknown",
         "Boy",
         "Male",
         "Male"
        ],
        [
         "41",
         "Лупал Николай Васильевич",
         "Лупал Николай Васильевич",
         "Лупал",
         "Васильевич",
         "unknown",
         "Girl",
         "Male",
         "Male"
        ],
        [
         "42",
         "Catherine Mela",
         "Catherine Mela",
         "Catherine",
         "Mela",
         "female",
         "Girl",
         "Female",
         "Female"
        ],
        [
         "43",
         "Nurhidayah Amir",
         "Nurhidayah Amir",
         "Nurhidayah",
         "Amir",
         "unknown",
         "Boy",
         "Female",
         "Female"
        ],
        [
         "44",
         "Hironobu Ito",
         "Hironobu Ito",
         "Hironobu",
         "Ito",
         "male",
         "Boy",
         "Male",
         "Male"
        ],
        [
         "46",
         "李令军",
         "李令军",
         "李令军",
         "李令军",
         "unknown",
         "Girl",
         "Unknown",
         "Male"
        ],
        [
         "47",
         "Rade Miletić",
         "Rade Miletić",
         "Rade",
         "Miletić",
         "male",
         "Girl",
         "Male",
         "Male"
        ],
        [
         "48",
         "吉田晃典",
         "吉田晃典",
         "吉田晃典",
         "吉田晃典",
         "unknown",
         "Boy",
         "Unknown",
         "Unknown"
        ],
        [
         "50",
         "Raúl Ernesto Ramos Peralta",
         "Raúl Ernesto Ramos Peralta",
         "Raúl",
         "Peralta",
         "male",
         "Boy",
         "Male",
         "Male"
        ],
        [
         "51",
         "Kuang-An Wan",
         "Kuang-An Wan",
         "Kuang-An",
         "Wan",
         "unknown",
         "Girl",
         "Unknown",
         "Unknown"
        ],
        [
         "52",
         "Maria Leandra de Souza Silva",
         "Maria Leandra de Souza Silva",
         "Maria",
         "Silva",
         "female",
         "Girl",
         "Female",
         "Female"
        ],
        [
         "55",
         "punit bhatia",
         "punit bhatia",
         "punit",
         "bhatia",
         "unknown",
         "Boy",
         "Male",
         "Male"
        ],
        [
         "56",
         "Laura Sujo Montes",
         "Laura Sujo Montes",
         "Laura",
         "Montes",
         "female",
         "Girl",
         "Female",
         "Female"
        ],
        [
         "57",
         "Zvi Rosenstock",
         "Zvi Rosenstock",
         "Zvi",
         "Rosenstock",
         "male",
         "Boy",
         "Male",
         "Male"
        ],
        [
         "58",
         "Oliver Klar",
         "Oliver Klar",
         "Oliver",
         "Klar",
         "male",
         "Boy",
         "Male",
         "Male"
        ],
        [
         "60",
         "María Bezunartea Oroz",
         "María Bezunartea Oroz",
         "María",
         "Oroz",
         "mostly_female",
         "Girl",
         "Female",
         "Female"
        ],
        [
         "61",
         "Filip Krásný",
         "Filip Krásný",
         "Filip",
         "Krásný",
         "male",
         "Boy",
         "Male",
         "Male"
        ],
        [
         "62",
         "余红伟",
         "余红伟",
         "余红伟",
         "余红伟",
         "unknown",
         "Girl",
         "Male",
         "Male"
        ],
        [
         "63",
         "Putririani",
         "Putririani",
         "Putririani",
         "Putririani",
         "unknown",
         "Boy",
         "Female",
         "Female"
        ],
        [
         "64",
         "Anchin",
         "Anchin",
         "Anchin",
         "Anchin",
         "unknown",
         "Girl",
         "Unknown",
         "Unknown"
        ],
        [
         "67",
         "Brendan J. Connolly",
         "Brendan J Connolly",
         "Brendan",
         "Connolly",
         "male",
         "Boy",
         "Male",
         "Male"
        ],
        [
         "68",
         "Hyuk Choe",
         "Hyuk Choe",
         "Hyuk",
         "Choe",
         "andy",
         "Boy",
         "Unknown",
         "Male"
        ],
        [
         "69",
         "Jitendra Kapoor",
         "Jitendra Kapoor",
         "Jitendra",
         "Kapoor",
         "unknown",
         "Boy",
         "Male",
         "Male"
        ],
        [
         "70",
         "菜穂子 角田",
         "菜穂子 角田",
         "菜穂子",
         "角田",
         "unknown",
         "Girl",
         "Female",
         "Female"
        ],
        [
         "71",
         "飛宇馬 栗原",
         "飛宇馬 栗原",
         "飛宇馬",
         "栗原",
         "unknown",
         "Girl",
         "Unknown",
         "Unknown"
        ],
        [
         "75",
         "Elizabeth Gabel",
         "Elizabeth Gabel",
         "Elizabeth",
         "Gabel",
         "female",
         "Girl",
         "Female",
         "Female"
        ]
       ],
       "shape": {
        "columns": 8,
        "rows": 100
       }
      },
      "text/html": [
       "<div>\n",
       "<style scoped>\n",
       "    .dataframe tbody tr th:only-of-type {\n",
       "        vertical-align: middle;\n",
       "    }\n",
       "\n",
       "    .dataframe tbody tr th {\n",
       "        vertical-align: top;\n",
       "    }\n",
       "\n",
       "    .dataframe thead th {\n",
       "        text-align: right;\n",
       "    }\n",
       "</style>\n",
       "<table border=\"1\" class=\"dataframe\">\n",
       "  <thead>\n",
       "    <tr style=\"text-align: right;\">\n",
       "      <th></th>\n",
       "      <th>display_name</th>\n",
       "      <th>strip_display_name</th>\n",
       "      <th>first</th>\n",
       "      <th>last</th>\n",
       "      <th>gender_guesser</th>\n",
       "      <th>gender_ai</th>\n",
       "      <th>gpt</th>\n",
       "      <th>gpt2</th>\n",
       "    </tr>\n",
       "  </thead>\n",
       "  <tbody>\n",
       "    <tr>\n",
       "      <th>0</th>\n",
       "      <td>Resty Fastabikul Khaerat</td>\n",
       "      <td>Resty Fastabikul Khaerat</td>\n",
       "      <td>Resty</td>\n",
       "      <td>Khaerat</td>\n",
       "      <td>unknown</td>\n",
       "      <td>Girl</td>\n",
       "      <td>Unknown</td>\n",
       "      <td>Unknown</td>\n",
       "    </tr>\n",
       "    <tr>\n",
       "      <th>2</th>\n",
       "      <td>Xinshun Li</td>\n",
       "      <td>Xinshun Li</td>\n",
       "      <td>Xinshun</td>\n",
       "      <td>Li</td>\n",
       "      <td>unknown</td>\n",
       "      <td>probably a Boy</td>\n",
       "      <td>Male</td>\n",
       "      <td>Male</td>\n",
       "    </tr>\n",
       "    <tr>\n",
       "      <th>8</th>\n",
       "      <td>堀越さな恵</td>\n",
       "      <td>堀越さな恵</td>\n",
       "      <td>堀越さな恵</td>\n",
       "      <td>堀越さな恵</td>\n",
       "      <td>unknown</td>\n",
       "      <td>Boy</td>\n",
       "      <td>Female</td>\n",
       "      <td>Female</td>\n",
       "    </tr>\n",
       "    <tr>\n",
       "      <th>9</th>\n",
       "      <td>Debbie Northin</td>\n",
       "      <td>Debbie Northin</td>\n",
       "      <td>Debbie</td>\n",
       "      <td>Northin</td>\n",
       "      <td>female</td>\n",
       "      <td>Girl</td>\n",
       "      <td>Female</td>\n",
       "      <td>Female</td>\n",
       "    </tr>\n",
       "    <tr>\n",
       "      <th>10</th>\n",
       "      <td>Ambrish</td>\n",
       "      <td>Ambrish</td>\n",
       "      <td>Ambrish</td>\n",
       "      <td>Ambrish</td>\n",
       "      <td>unknown</td>\n",
       "      <td>Girl</td>\n",
       "      <td>Male</td>\n",
       "      <td>Male</td>\n",
       "    </tr>\n",
       "    <tr>\n",
       "      <th>...</th>\n",
       "      <td>...</td>\n",
       "      <td>...</td>\n",
       "      <td>...</td>\n",
       "      <td>...</td>\n",
       "      <td>...</td>\n",
       "      <td>...</td>\n",
       "      <td>...</td>\n",
       "      <td>...</td>\n",
       "    </tr>\n",
       "    <tr>\n",
       "      <th>138</th>\n",
       "      <td>付权茂</td>\n",
       "      <td>付权茂</td>\n",
       "      <td>付权茂</td>\n",
       "      <td>付权茂</td>\n",
       "      <td>unknown</td>\n",
       "      <td>Girl</td>\n",
       "      <td>Unknown</td>\n",
       "      <td>Male</td>\n",
       "    </tr>\n",
       "    <tr>\n",
       "      <th>139</th>\n",
       "      <td>Jawharah Fahad Abdul Aziz Al-Fehaid</td>\n",
       "      <td>Jawharah Fahad Abdul Aziz Al-Fehaid</td>\n",
       "      <td>Jawharah</td>\n",
       "      <td>Al-Fehaid</td>\n",
       "      <td>unknown</td>\n",
       "      <td>Boy</td>\n",
       "      <td>Unknown</td>\n",
       "      <td>Female</td>\n",
       "    </tr>\n",
       "    <tr>\n",
       "      <th>140</th>\n",
       "      <td>Steven Tschantzk</td>\n",
       "      <td>Steven Tschantzk</td>\n",
       "      <td>Steven</td>\n",
       "      <td>Tschantzk</td>\n",
       "      <td>male</td>\n",
       "      <td>Boy</td>\n",
       "      <td>Male</td>\n",
       "      <td>Male</td>\n",
       "    </tr>\n",
       "    <tr>\n",
       "      <th>143</th>\n",
       "      <td>Ερμής Γκίνης</td>\n",
       "      <td>Ερμής Γκίνης</td>\n",
       "      <td>Ερμής</td>\n",
       "      <td>Γκίνης</td>\n",
       "      <td>unknown</td>\n",
       "      <td>Girl</td>\n",
       "      <td>Male</td>\n",
       "      <td>Unknown</td>\n",
       "    </tr>\n",
       "    <tr>\n",
       "      <th>144</th>\n",
       "      <td>Shaila Alvarez-Junco</td>\n",
       "      <td>Shaila Alvarez-Junco</td>\n",
       "      <td>Shaila</td>\n",
       "      <td>Alvarez-Junco</td>\n",
       "      <td>female</td>\n",
       "      <td>Girl</td>\n",
       "      <td>Female</td>\n",
       "      <td>Female</td>\n",
       "    </tr>\n",
       "  </tbody>\n",
       "</table>\n",
       "<p>100 rows × 8 columns</p>\n",
       "</div>"
      ],
      "text/plain": [
       "                            display_name                   strip_display_name  \\\n",
       "0               Resty Fastabikul Khaerat             Resty Fastabikul Khaerat   \n",
       "2                             Xinshun Li                           Xinshun Li   \n",
       "8                                  堀越さな恵                                堀越さな恵   \n",
       "9                         Debbie Northin                       Debbie Northin   \n",
       "10                               Ambrish                              Ambrish   \n",
       "..                                   ...                                  ...   \n",
       "138                                  付权茂                                  付权茂   \n",
       "139  Jawharah Fahad Abdul Aziz Al-Fehaid  Jawharah Fahad Abdul Aziz Al-Fehaid   \n",
       "140                     Steven Tschantzk                     Steven Tschantzk   \n",
       "143                         Ερμής Γκίνης                         Ερμής Γκίνης   \n",
       "144                 Shaila Alvarez-Junco                 Shaila Alvarez-Junco   \n",
       "\n",
       "        first           last gender_guesser       gender_ai      gpt     gpt2  \n",
       "0       Resty        Khaerat        unknown            Girl  Unknown  Unknown  \n",
       "2     Xinshun             Li        unknown  probably a Boy     Male     Male  \n",
       "8       堀越さな恵          堀越さな恵        unknown             Boy   Female   Female  \n",
       "9      Debbie        Northin         female            Girl   Female   Female  \n",
       "10    Ambrish        Ambrish        unknown            Girl     Male     Male  \n",
       "..        ...            ...            ...             ...      ...      ...  \n",
       "138       付权茂            付权茂        unknown            Girl  Unknown     Male  \n",
       "139  Jawharah      Al-Fehaid        unknown             Boy  Unknown   Female  \n",
       "140    Steven      Tschantzk           male             Boy     Male     Male  \n",
       "143     Ερμής         Γκίνης        unknown            Girl     Male  Unknown  \n",
       "144    Shaila  Alvarez-Junco         female            Girl   Female   Female  \n",
       "\n",
       "[100 rows x 8 columns]"
      ]
     },
     "execution_count": 45,
     "metadata": {},
     "output_type": "execute_result"
    }
   ],
   "source": [
    "gdf"
   ]
  }
 ],
 "metadata": {
  "kernelspec": {
   "display_name": "base",
   "language": "python",
   "name": "python3"
  },
  "language_info": {
   "codemirror_mode": {
    "name": "ipython",
    "version": 3
   },
   "file_extension": ".py",
   "mimetype": "text/x-python",
   "name": "python",
   "nbconvert_exporter": "python",
   "pygments_lexer": "ipython3",
   "version": "3.11.11"
  }
 },
 "nbformat": 4,
 "nbformat_minor": 5
}
