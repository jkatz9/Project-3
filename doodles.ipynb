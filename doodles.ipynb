{
 "cells": [
  {
   "cell_type": "code",
   "execution_count": 1,
   "id": "5a8f4d4c",
   "metadata": {},
   "outputs": [],
   "source": [
    "def get_attributes(object):\n",
    "    attributes = dir(object)\n",
    "    filtered_attributes = [\n",
    "        attr for attr in attributes if not attr.startswith('__')]\n",
    "    return filtered_attributes\n",
    "\n",
    "\n",
    "def get_methods(object):\n",
    "    methods = dir(object)\n",
    "    filtered_methods = [\n",
    "        method for method in methods if not method.startswith('__') and callable(getattr(object, method))]\n",
    "    return filtered_methods\n",
    "\n",
    "\n",
    "def get_properties(object):\n",
    "    properties = dir(object)\n",
    "    filtered_properties = [\n",
    "        prop for prop in properties if not prop.startswith('__') and not callable(getattr(object, prop))]\n",
    "    return filtered_properties"
   ]
  },
  {
   "cell_type": "code",
   "execution_count": 2,
   "id": "60d6241a",
   "metadata": {},
   "outputs": [
    {
     "name": "stdout",
     "output_type": "stream",
     "text": [
      "Author list 0 loaded from file.\n",
      "Author list 1 loaded from file.\n",
      "Author list 2 loaded from file.\n",
      "Author list 3 loaded from file.\n",
      "Author list 4 loaded from file.\n",
      "Author list 5 loaded from file.\n",
      "Author list 6 loaded from file.\n",
      "Author list 7 loaded from file.\n",
      "Author list 8 loaded from file.\n",
      "Author list 9 loaded from file.\n"
     ]
    }
   ],
   "source": [
    "import requests\n",
    "import json\n",
    "import pandas as pd\n",
    "from pprint import pprint\n",
    "import pickle\n",
    "\n",
    "base_url = \"https://api.openalex.org/\"\n",
    "email = \"katz.562@osu.edu\"\n",
    "\n",
    "\n",
    "def pickle_dump(data, filename):\n",
    "    with open(filename, 'wb') as f:\n",
    "        pickle.dump(data, f)\n",
    "\n",
    "\n",
    "author_list = []\n",
    "for j in range(10):\n",
    "    try:\n",
    "        author_list.extend(pickle.load(\n",
    "            open(f\"data/author_list_{j}.pkl\", 'rb')))\n",
    "        print(f\"Author list {j} loaded from file.\")\n",
    "    except FileNotFoundError:\n",
    "        sample = 10000\n",
    "        per_page = 200\n",
    "        while j < 10:\n",
    "            new_author_list = []\n",
    "            print(f\"{j}th sample\")\n",
    "            seed = 3142+j\n",
    "            i = 1\n",
    "            while i <= sample/per_page:\n",
    "                print(f\"Page {i}\")\n",
    "                response = requests.get(base_url + \"authors\",\n",
    "                                        params={'sample': sample, 'seed': seed, 'per-page': per_page, 'page': i})\n",
    "                data = response.json()\n",
    "                if len(data['results']) == 0:\n",
    "                    break\n",
    "                new_author_list.extend(data['results'])\n",
    "                i += 1\n",
    "            filename = f\"data/author_list_{j}.json\"\n",
    "            print(f'Saving {len(new_author_list)} authors to {filename}')\n",
    "            pickle_dump(new_author_list, f\"data/author_list_{j}.pkl\")\n",
    "            j += 1"
   ]
  },
  {
   "cell_type": "code",
   "execution_count": 9,
   "id": "14e9694d",
   "metadata": {},
   "outputs": [],
   "source": [
    "authors_df = pd.DataFrame(author_list)\n",
    "unnecessary_columns = ['orcid', 'ids', 'affiliations', 'last_known_institutions',\n",
    "                       'summary_stats', 'created_date', 'updated_date', 'topics', 'topic_share', 'relevance_score']\n",
    "df = authors_df.drop(columns=unnecessary_columns)"
   ]
  },
  {
   "cell_type": "code",
   "execution_count": 11,
   "id": "3e31b1ff",
   "metadata": {},
   "outputs": [],
   "source": [
    "def fetch_works(api_url):\n",
    "    params = {\n",
    "        'per_page': 200\n",
    "    }\n",
    "    response = requests.get(api_url, params)\n",
    "    if response.status_code == 200:\n",
    "        return [work['id'] for work in response.json()['results']]\n",
    "    else:\n",
    "        return None\n",
    "\n",
    "\n",
    "n = 10  # Number of rows to process\n",
    "df.loc[:n-1, 'works'] = df.loc[:n-1, 'works_api_url'].apply(fetch_works)"
   ]
  },
  {
   "cell_type": "code",
   "execution_count": 17,
   "id": "0eca86e1",
   "metadata": {},
   "outputs": [
    {
     "data": {
      "text/plain": [
       "0    [https://openalex.org/W4382515348, https://ope...\n",
       "Name: works, dtype: object"
      ]
     },
     "execution_count": 17,
     "metadata": {},
     "output_type": "execute_result"
    }
   ],
   "source": [
    "df.head(1)['works']"
   ]
  },
  {
   "cell_type": "code",
   "execution_count": null,
   "id": "dd68ccc1",
   "metadata": {},
   "outputs": [],
   "source": []
  }
 ],
 "metadata": {
  "kernelspec": {
   "display_name": "base",
   "language": "python",
   "name": "python3"
  },
  "language_info": {
   "codemirror_mode": {
    "name": "ipython",
    "version": 3
   },
   "file_extension": ".py",
   "mimetype": "text/x-python",
   "name": "python",
   "nbconvert_exporter": "python",
   "pygments_lexer": "ipython3",
   "version": "3.11.11"
  }
 },
 "nbformat": 4,
 "nbformat_minor": 5
}
