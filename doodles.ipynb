{
 "cells": [
  {
   "cell_type": "code",
   "execution_count": null,
   "id": "5a8f4d4c",
   "metadata": {},
   "outputs": [],
   "source": [
    "def get_attributes(object):\n",
    "    attributes = dir(object)\n",
    "    filtered_attributes = [\n",
    "        attr for attr in attributes if not attr.startswith('__')]\n",
    "    return filtered_attributes\n",
    "\n",
    "\n",
    "def get_methods(object):\n",
    "    methods = dir(object)\n",
    "    filtered_methods = [\n",
    "        method for method in methods if not method.startswith('__') and callable(getattr(object, method))]\n",
    "    return filtered_methods\n",
    "\n",
    "\n",
    "def get_properties(object):\n",
    "    properties = dir(object)\n",
    "    filtered_properties = [\n",
    "        prop for prop in properties if not prop.startswith('__') and not callable(getattr(object, prop))]\n",
    "    return filtered_properties\n"
   ]
  },
  {
   "cell_type": "code",
   "execution_count": null,
   "id": "d51f0d32",
   "metadata": {},
   "outputs": [],
   "source": [
    "import requests\n",
    "import json\n"
   ]
  },
  {
   "cell_type": "code",
   "execution_count": null,
   "id": "0c071238",
   "metadata": {},
   "outputs": [],
   "source": [
    "base_url = 'https://openalex.org/'\n"
   ]
  },
  {
   "cell_type": "code",
   "execution_count": null,
   "id": "60d6241a",
   "metadata": {},
   "outputs": [],
   "source": []
  }
 ],
 "metadata": {
  "kernelspec": {
   "display_name": "base",
   "language": "python",
   "name": "python3"
  },
  "language_info": {
   "codemirror_mode": {
    "name": "ipython",
    "version": 3
   },
   "file_extension": ".py",
   "mimetype": "text/x-python",
   "name": "python",
   "nbconvert_exporter": "python",
   "pygments_lexer": "ipython3",
   "version": "3.11.11"
  }
 },
 "nbformat": 4,
 "nbformat_minor": 5
}
