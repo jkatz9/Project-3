{
 "cells": [
  {
   "cell_type": "code",
   "execution_count": 1,
   "metadata": {},
   "outputs": [
    {
     "name": "stdout",
     "output_type": "stream",
     "text": [
      "Author list 0 loaded from file.\n",
      "Author list 1 loaded from file.\n",
      "Author list 2 loaded from file.\n",
      "Author list 3 loaded from file.\n",
      "Author list 4 loaded from file.\n",
      "Author list 5 loaded from file.\n",
      "Author list 6 loaded from file.\n",
      "Author list 7 loaded from file.\n",
      "Author list 8 loaded from file.\n",
      "Author list 9 loaded from file.\n"
     ]
    }
   ],
   "source": [
    "import requests\n",
    "import json\n",
    "import pandas as pd\n",
    "from pprint import pprint\n",
    "import pickle\n",
    "\n",
    "base_url = \"https://api.openalex.org/\"\n",
    "email = \"katz.562@osu.edu\"\n",
    "\n",
    "\n",
    "def pickle_dump(data, filename):\n",
    "    with open(filename, 'wb') as f:\n",
    "        pickle.dump(data, f)\n",
    "\n",
    "\n",
    "author_list = []\n",
    "for j in range(10):\n",
    "    try:\n",
    "        author_list.extend(pickle.load(\n",
    "            open(f\"data/author_list_{j}.pkl\", 'rb')))\n",
    "        print(f\"Author list {j} loaded from file.\")\n",
    "    except FileNotFoundError:\n",
    "        sample = 10000\n",
    "        per_page = 200\n",
    "        while j < 10:\n",
    "            new_author_list = []\n",
    "            print(f\"{j}th sample\")\n",
    "            seed = 3142+j\n",
    "            i = 1\n",
    "            while i <= sample/per_page:\n",
    "                print(f\"Page {i}\")\n",
    "                response = requests.get(base_url + \"authors\",\n",
    "                                        params={'sample': sample, 'seed': seed, 'per-page': per_page, 'page': i})\n",
    "                data = response.json()\n",
    "                if len(data['results']) == 0:\n",
    "                    break\n",
    "                new_author_list.extend(data['results'])\n",
    "                i += 1\n",
    "            filename = f\"data/author_list_{j}.json\"\n",
    "            print(f'Saving {len(new_author_list)} authors to {filename}')\n",
    "            pickle_dump(new_author_list, f\"data/author_list_{j}.pkl\")\n",
    "            j += 1\n",
    "\n",
    "dropcolumns = ['orcid', 'display_name_alternatives', 'relevance_score', 'summary_stats', 'ids',\n",
    "               'affiliations', 'last_known_institutions', 'topics', 'topic_share', 'updated_date', 'created_date']\n",
    "df = pd.DataFrame(author_list).drop(columns=dropcolumns)"
   ]
  },
  {
   "cell_type": "code",
   "execution_count": null,
   "metadata": {},
   "outputs": [],
   "source": [
    "# def list_columns(df):\n",
    "#     return [col for col in df.columns if isinstance(df[col].iloc[0], list)]\n",
    "\n",
    "\n",
    "# def dict_columns(df):\n",
    "#     return [col for col in df.columns if isinstance(df[col].iloc[0], dict)]\n",
    "\n",
    "\n",
    "# lcols = list_columns(df)\n",
    "# dcols = dict_columns(df)\n",
    "\n",
    "# serialized = {}\n",
    "# for col in dcols:\n",
    "#     serialized[col] = pd.json_normalize(df[col])\n",
    "#     serialized[col]['id'] = df['id']\n",
    "\n",
    "# exploded = {}\n",
    "# for col in lcols:\n",
    "#     exploded[col] = df[['id', col]].explode(col)"
   ]
  },
  {
   "cell_type": "code",
   "execution_count": 2,
   "metadata": {},
   "outputs": [
    {
     "data": {
      "application/vnd.microsoft.datawrangler.viewer.v0+json": {
       "columns": [
        {
         "name": "index",
         "rawType": "int64",
         "type": "integer"
        },
        {
         "name": "id",
         "rawType": "object",
         "type": "string"
        },
        {
         "name": "x_concepts",
         "rawType": "object",
         "type": "unknown"
        }
       ],
       "conversionMethod": "pd.DataFrame",
       "ref": "e062695d-1260-4e06-b901-979a797c99c0",
       "rows": [
        [
         "0",
         "https://openalex.org/A5092356489",
         "Humanities"
        ],
        [
         "0",
         "https://openalex.org/A5092356489",
         "Gynecology"
        ],
        [
         "0",
         "https://openalex.org/A5092356489",
         "Medicine"
        ],
        [
         "0",
         "https://openalex.org/A5092356489",
         "Forestry"
        ],
        [
         "0",
         "https://openalex.org/A5092356489",
         "Physics"
        ],
        [
         "0",
         "https://openalex.org/A5092356489",
         "Philosophy"
        ],
        [
         "0",
         "https://openalex.org/A5092356489",
         "Art"
        ],
        [
         "0",
         "https://openalex.org/A5092356489",
         "Geography"
        ],
        [
         "1",
         "https://openalex.org/A5087968922",
         "genomic DNA"
        ],
        [
         "1",
         "https://openalex.org/A5087968922",
         "Exon"
        ],
        [
         "1",
         "https://openalex.org/A5087968922",
         "Polymerase chain reaction"
        ],
        [
         "1",
         "https://openalex.org/A5087968922",
         "DNA sequencing"
        ],
        [
         "1",
         "https://openalex.org/A5087968922",
         "Genetics"
        ],
        [
         "1",
         "https://openalex.org/A5087968922",
         "Biochemistry"
        ],
        [
         "1",
         "https://openalex.org/A5087968922",
         "Biology"
        ],
        [
         "1",
         "https://openalex.org/A5087968922",
         "Coding region"
        ],
        [
         "1",
         "https://openalex.org/A5087968922",
         "Gene"
        ],
        [
         "1",
         "https://openalex.org/A5087968922",
         "Messenger RNA"
        ],
        [
         "1",
         "https://openalex.org/A5087968922",
         "Single-strand conformation polymorphism"
        ],
        [
         "1",
         "https://openalex.org/A5087968922",
         "Genotype"
        ],
        [
         "1",
         "https://openalex.org/A5087968922",
         "Polymorphism (computer science)"
        ],
        [
         "1",
         "https://openalex.org/A5087968922",
         "Molecular biology"
        ],
        [
         "1",
         "https://openalex.org/A5087968922",
         "Restriction fragment length polymorphism"
        ],
        [
         "1",
         "https://openalex.org/A5087968922",
         "Start codon"
        ],
        [
         "1",
         "https://openalex.org/A5087968922",
         "Allele"
        ],
        [
         "1",
         "https://openalex.org/A5087968922",
         "Chemistry"
        ],
        [
         "1",
         "https://openalex.org/A5087968922",
         "Mutation"
        ],
        [
         "1",
         "https://openalex.org/A5087968922",
         "Nucleotide"
        ],
        [
         "1",
         "https://openalex.org/A5087968922",
         "DNA"
        ],
        [
         "1",
         "https://openalex.org/A5087968922",
         "Base sequence"
        ],
        [
         "2",
         "https://openalex.org/A5114128731",
         "Agronomy"
        ],
        [
         "2",
         "https://openalex.org/A5114128731",
         "Pyrolysis"
        ],
        [
         "2",
         "https://openalex.org/A5114128731",
         "Chemical engineering"
        ],
        [
         "2",
         "https://openalex.org/A5114128731",
         "Biochemistry"
        ],
        [
         "2",
         "https://openalex.org/A5114128731",
         "Biochar"
        ],
        [
         "2",
         "https://openalex.org/A5114128731",
         "Quantum mechanics"
        ],
        [
         "2",
         "https://openalex.org/A5114128731",
         "Photocatalysis"
        ],
        [
         "2",
         "https://openalex.org/A5114128731",
         "Biology"
        ],
        [
         "2",
         "https://openalex.org/A5114128731",
         "Physics"
        ],
        [
         "2",
         "https://openalex.org/A5114128731",
         "Engineering"
        ],
        [
         "2",
         "https://openalex.org/A5114128731",
         "Ball mill"
        ],
        [
         "2",
         "https://openalex.org/A5114128731",
         "Physical chemistry"
        ],
        [
         "2",
         "https://openalex.org/A5114128731",
         "Adsorption"
        ],
        [
         "2",
         "https://openalex.org/A5114128731",
         "Composite material"
        ],
        [
         "2",
         "https://openalex.org/A5114128731",
         "Catalysis"
        ],
        [
         "2",
         "https://openalex.org/A5114128731",
         "Organic chemistry"
        ],
        [
         "2",
         "https://openalex.org/A5114128731",
         "Inorganic chemistry"
        ],
        [
         "2",
         "https://openalex.org/A5114128731",
         "Aqueous solution"
        ],
        [
         "2",
         "https://openalex.org/A5114128731",
         "Chemistry"
        ],
        [
         "2",
         "https://openalex.org/A5114128731",
         "Metallurgy"
        ]
       ],
       "shape": {
        "columns": 2,
        "rows": 1327117
       }
      },
      "text/html": [
       "<div>\n",
       "<style scoped>\n",
       "    .dataframe tbody tr th:only-of-type {\n",
       "        vertical-align: middle;\n",
       "    }\n",
       "\n",
       "    .dataframe tbody tr th {\n",
       "        vertical-align: top;\n",
       "    }\n",
       "\n",
       "    .dataframe thead th {\n",
       "        text-align: right;\n",
       "    }\n",
       "</style>\n",
       "<table border=\"1\" class=\"dataframe\">\n",
       "  <thead>\n",
       "    <tr style=\"text-align: right;\">\n",
       "      <th></th>\n",
       "      <th>id</th>\n",
       "      <th>x_concepts</th>\n",
       "    </tr>\n",
       "  </thead>\n",
       "  <tbody>\n",
       "    <tr>\n",
       "      <th>0</th>\n",
       "      <td>https://openalex.org/A5092356489</td>\n",
       "      <td>Humanities</td>\n",
       "    </tr>\n",
       "    <tr>\n",
       "      <th>0</th>\n",
       "      <td>https://openalex.org/A5092356489</td>\n",
       "      <td>Gynecology</td>\n",
       "    </tr>\n",
       "    <tr>\n",
       "      <th>0</th>\n",
       "      <td>https://openalex.org/A5092356489</td>\n",
       "      <td>Medicine</td>\n",
       "    </tr>\n",
       "    <tr>\n",
       "      <th>0</th>\n",
       "      <td>https://openalex.org/A5092356489</td>\n",
       "      <td>Forestry</td>\n",
       "    </tr>\n",
       "    <tr>\n",
       "      <th>0</th>\n",
       "      <td>https://openalex.org/A5092356489</td>\n",
       "      <td>Physics</td>\n",
       "    </tr>\n",
       "    <tr>\n",
       "      <th>...</th>\n",
       "      <td>...</td>\n",
       "      <td>...</td>\n",
       "    </tr>\n",
       "    <tr>\n",
       "      <th>99999</th>\n",
       "      <td>https://openalex.org/A5070158048</td>\n",
       "      <td>Agronomy</td>\n",
       "    </tr>\n",
       "    <tr>\n",
       "      <th>99999</th>\n",
       "      <td>https://openalex.org/A5070158048</td>\n",
       "      <td>Medicine</td>\n",
       "    </tr>\n",
       "    <tr>\n",
       "      <th>99999</th>\n",
       "      <td>https://openalex.org/A5070158048</td>\n",
       "      <td>Chemistry</td>\n",
       "    </tr>\n",
       "    <tr>\n",
       "      <th>99999</th>\n",
       "      <td>https://openalex.org/A5070158048</td>\n",
       "      <td>Genetics</td>\n",
       "    </tr>\n",
       "    <tr>\n",
       "      <th>99999</th>\n",
       "      <td>https://openalex.org/A5070158048</td>\n",
       "      <td>Artocarpus</td>\n",
       "    </tr>\n",
       "  </tbody>\n",
       "</table>\n",
       "<p>1327117 rows × 2 columns</p>\n",
       "</div>"
      ],
      "text/plain": [
       "                                     id  x_concepts\n",
       "0      https://openalex.org/A5092356489  Humanities\n",
       "0      https://openalex.org/A5092356489  Gynecology\n",
       "0      https://openalex.org/A5092356489    Medicine\n",
       "0      https://openalex.org/A5092356489    Forestry\n",
       "0      https://openalex.org/A5092356489     Physics\n",
       "...                                 ...         ...\n",
       "99999  https://openalex.org/A5070158048    Agronomy\n",
       "99999  https://openalex.org/A5070158048    Medicine\n",
       "99999  https://openalex.org/A5070158048   Chemistry\n",
       "99999  https://openalex.org/A5070158048    Genetics\n",
       "99999  https://openalex.org/A5070158048  Artocarpus\n",
       "\n",
       "[1327117 rows x 2 columns]"
      ]
     },
     "execution_count": 2,
     "metadata": {},
     "output_type": "execute_result"
    }
   ],
   "source": [
    "df['x_concepts'] = df['x_concepts'].apply(\n",
    "    lambda x: [concept['display_name'] for concept in x])\n",
    "x_concepts_df = df[['id', 'x_concepts']].explode('x_concepts')\n",
    "x_concepts_df"
   ]
  },
  {
   "cell_type": "code",
   "execution_count": 3,
   "metadata": {},
   "outputs": [
    {
     "data": {
      "application/vnd.microsoft.datawrangler.viewer.v0+json": {
       "columns": [
        {
         "name": "index",
         "rawType": "int64",
         "type": "integer"
        },
        {
         "name": "id",
         "rawType": "object",
         "type": "string"
        },
        {
         "name": "year",
         "rawType": "int64",
         "type": "integer"
        },
        {
         "name": "works_count",
         "rawType": "int64",
         "type": "integer"
        },
        {
         "name": "cited_by_count",
         "rawType": "int64",
         "type": "integer"
        }
       ],
       "conversionMethod": "pd.DataFrame",
       "ref": "624817a5-fd30-4fc6-9c49-fc47e74f3a91",
       "rows": [
        [
         "0",
         "https://openalex.org/A5092356489",
         "2024",
         "0",
         "1"
        ],
        [
         "0",
         "https://openalex.org/A5092356489",
         "2023",
         "2",
         "0"
        ],
        [
         "1",
         "https://openalex.org/A5087968922",
         "2022",
         "0",
         "2"
        ],
        [
         "1",
         "https://openalex.org/A5087968922",
         "2018",
         "0",
         "1"
        ],
        [
         "2",
         "https://openalex.org/A5114128731",
         "2024",
         "2",
         "0"
        ],
        [
         "4",
         "https://openalex.org/A5017708815",
         "2023",
         "0",
         "1"
        ],
        [
         "4",
         "https://openalex.org/A5017708815",
         "2020",
         "0",
         "1"
        ],
        [
         "4",
         "https://openalex.org/A5017708815",
         "2019",
         "1",
         "0"
        ],
        [
         "4",
         "https://openalex.org/A5017708815",
         "2018",
         "1",
         "0"
        ],
        [
         "5",
         "https://openalex.org/A5038232653",
         "2024",
         "0",
         "1"
        ],
        [
         "5",
         "https://openalex.org/A5038232653",
         "2022",
         "0",
         "2"
        ],
        [
         "5",
         "https://openalex.org/A5038232653",
         "2020",
         "0",
         "5"
        ],
        [
         "5",
         "https://openalex.org/A5038232653",
         "2019",
         "0",
         "2"
        ],
        [
         "5",
         "https://openalex.org/A5038232653",
         "2017",
         "0",
         "1"
        ],
        [
         "5",
         "https://openalex.org/A5038232653",
         "2015",
         "0",
         "1"
        ],
        [
         "5",
         "https://openalex.org/A5038232653",
         "2014",
         "0",
         "2"
        ],
        [
         "5",
         "https://openalex.org/A5038232653",
         "2013",
         "0",
         "3"
        ],
        [
         "5",
         "https://openalex.org/A5038232653",
         "2012",
         "0",
         "1"
        ],
        [
         "6",
         "https://openalex.org/A5067868239",
         "2021",
         "1",
         "0"
        ],
        [
         "6",
         "https://openalex.org/A5067868239",
         "2019",
         "1",
         "0"
        ],
        [
         "8",
         "https://openalex.org/A5004616759",
         "2013",
         "1",
         "0"
        ],
        [
         "10",
         "https://openalex.org/A5095940583",
         "2025",
         "0",
         "4"
        ],
        [
         "10",
         "https://openalex.org/A5095940583",
         "2024",
         "1",
         "0"
        ],
        [
         "11",
         "https://openalex.org/A5058644277",
         "2015",
         "1",
         "0"
        ],
        [
         "12",
         "https://openalex.org/A5111294908",
         "2024",
         "1",
         "0"
        ],
        [
         "13",
         "https://openalex.org/A5084378526",
         "2025",
         "1",
         "13"
        ],
        [
         "13",
         "https://openalex.org/A5084378526",
         "2024",
         "7",
         "37"
        ],
        [
         "13",
         "https://openalex.org/A5084378526",
         "2023",
         "1",
         "14"
        ],
        [
         "13",
         "https://openalex.org/A5084378526",
         "2022",
         "2",
         "1"
        ],
        [
         "14",
         "https://openalex.org/A5006981693",
         "2014",
         "1",
         "0"
        ],
        [
         "16",
         "https://openalex.org/A5002771042",
         "2023",
         "0",
         "1"
        ],
        [
         "16",
         "https://openalex.org/A5002771042",
         "2022",
         "0",
         "1"
        ],
        [
         "16",
         "https://openalex.org/A5002771042",
         "2020",
         "0",
         "2"
        ],
        [
         "16",
         "https://openalex.org/A5002771042",
         "2018",
         "1",
         "0"
        ],
        [
         "17",
         "https://openalex.org/A5086830592",
         "2019",
         "0",
         "1"
        ],
        [
         "17",
         "https://openalex.org/A5086830592",
         "2018",
         "0",
         "2"
        ],
        [
         "17",
         "https://openalex.org/A5086830592",
         "2017",
         "0",
         "5"
        ],
        [
         "17",
         "https://openalex.org/A5086830592",
         "2016",
         "0",
         "2"
        ],
        [
         "17",
         "https://openalex.org/A5086830592",
         "2015",
         "0",
         "1"
        ],
        [
         "17",
         "https://openalex.org/A5086830592",
         "2014",
         "0",
         "4"
        ],
        [
         "17",
         "https://openalex.org/A5086830592",
         "2013",
         "1",
         "9"
        ],
        [
         "17",
         "https://openalex.org/A5086830592",
         "2012",
         "1",
         "6"
        ],
        [
         "18",
         "https://openalex.org/A5039675094",
         "2013",
         "1",
         "0"
        ],
        [
         "19",
         "https://openalex.org/A5044517721",
         "2023",
         "3",
         "0"
        ],
        [
         "21",
         "https://openalex.org/A5051282669",
         "2020",
         "1",
         "0"
        ],
        [
         "22",
         "https://openalex.org/A5058813694",
         "2013",
         "1",
         "0"
        ],
        [
         "23",
         "https://openalex.org/A5098133485",
         "2021",
         "1",
         "0"
        ],
        [
         "25",
         "https://openalex.org/A5058743877",
         "2024",
         "1",
         "0"
        ],
        [
         "25",
         "https://openalex.org/A5058743877",
         "2022",
         "1",
         "0"
        ],
        [
         "25",
         "https://openalex.org/A5058743877",
         "2021",
         "1",
         "0"
        ]
       ],
       "shape": {
        "columns": 4,
        "rows": 324931
       }
      },
      "text/html": [
       "<div>\n",
       "<style scoped>\n",
       "    .dataframe tbody tr th:only-of-type {\n",
       "        vertical-align: middle;\n",
       "    }\n",
       "\n",
       "    .dataframe tbody tr th {\n",
       "        vertical-align: top;\n",
       "    }\n",
       "\n",
       "    .dataframe thead th {\n",
       "        text-align: right;\n",
       "    }\n",
       "</style>\n",
       "<table border=\"1\" class=\"dataframe\">\n",
       "  <thead>\n",
       "    <tr style=\"text-align: right;\">\n",
       "      <th></th>\n",
       "      <th>id</th>\n",
       "      <th>year</th>\n",
       "      <th>works_count</th>\n",
       "      <th>cited_by_count</th>\n",
       "    </tr>\n",
       "  </thead>\n",
       "  <tbody>\n",
       "    <tr>\n",
       "      <th>0</th>\n",
       "      <td>https://openalex.org/A5092356489</td>\n",
       "      <td>2024</td>\n",
       "      <td>0</td>\n",
       "      <td>1</td>\n",
       "    </tr>\n",
       "    <tr>\n",
       "      <th>0</th>\n",
       "      <td>https://openalex.org/A5092356489</td>\n",
       "      <td>2023</td>\n",
       "      <td>2</td>\n",
       "      <td>0</td>\n",
       "    </tr>\n",
       "    <tr>\n",
       "      <th>1</th>\n",
       "      <td>https://openalex.org/A5087968922</td>\n",
       "      <td>2022</td>\n",
       "      <td>0</td>\n",
       "      <td>2</td>\n",
       "    </tr>\n",
       "    <tr>\n",
       "      <th>1</th>\n",
       "      <td>https://openalex.org/A5087968922</td>\n",
       "      <td>2018</td>\n",
       "      <td>0</td>\n",
       "      <td>1</td>\n",
       "    </tr>\n",
       "    <tr>\n",
       "      <th>2</th>\n",
       "      <td>https://openalex.org/A5114128731</td>\n",
       "      <td>2024</td>\n",
       "      <td>2</td>\n",
       "      <td>0</td>\n",
       "    </tr>\n",
       "    <tr>\n",
       "      <th>...</th>\n",
       "      <td>...</td>\n",
       "      <td>...</td>\n",
       "      <td>...</td>\n",
       "      <td>...</td>\n",
       "    </tr>\n",
       "    <tr>\n",
       "      <th>99999</th>\n",
       "      <td>https://openalex.org/A5070158048</td>\n",
       "      <td>2021</td>\n",
       "      <td>0</td>\n",
       "      <td>3</td>\n",
       "    </tr>\n",
       "    <tr>\n",
       "      <th>99999</th>\n",
       "      <td>https://openalex.org/A5070158048</td>\n",
       "      <td>2020</td>\n",
       "      <td>1</td>\n",
       "      <td>2</td>\n",
       "    </tr>\n",
       "    <tr>\n",
       "      <th>99999</th>\n",
       "      <td>https://openalex.org/A5070158048</td>\n",
       "      <td>2018</td>\n",
       "      <td>3</td>\n",
       "      <td>3</td>\n",
       "    </tr>\n",
       "    <tr>\n",
       "      <th>99999</th>\n",
       "      <td>https://openalex.org/A5070158048</td>\n",
       "      <td>2016</td>\n",
       "      <td>1</td>\n",
       "      <td>1</td>\n",
       "    </tr>\n",
       "    <tr>\n",
       "      <th>99999</th>\n",
       "      <td>https://openalex.org/A5070158048</td>\n",
       "      <td>2015</td>\n",
       "      <td>3</td>\n",
       "      <td>0</td>\n",
       "    </tr>\n",
       "  </tbody>\n",
       "</table>\n",
       "<p>324931 rows × 4 columns</p>\n",
       "</div>"
      ],
      "text/plain": [
       "                                     id  year  works_count  cited_by_count\n",
       "0      https://openalex.org/A5092356489  2024            0               1\n",
       "0      https://openalex.org/A5092356489  2023            2               0\n",
       "1      https://openalex.org/A5087968922  2022            0               2\n",
       "1      https://openalex.org/A5087968922  2018            0               1\n",
       "2      https://openalex.org/A5114128731  2024            2               0\n",
       "...                                 ...   ...          ...             ...\n",
       "99999  https://openalex.org/A5070158048  2021            0               3\n",
       "99999  https://openalex.org/A5070158048  2020            1               2\n",
       "99999  https://openalex.org/A5070158048  2018            3               3\n",
       "99999  https://openalex.org/A5070158048  2016            1               1\n",
       "99999  https://openalex.org/A5070158048  2015            3               0\n",
       "\n",
       "[324931 rows x 4 columns]"
      ]
     },
     "execution_count": 3,
     "metadata": {},
     "output_type": "execute_result"
    }
   ],
   "source": [
    "counts_by_year_df = df[['id', 'counts_by_year']].explode('counts_by_year')\n",
    "counts_by_year_df = counts_by_year_df[counts_by_year_df['counts_by_year'].notna(\n",
    ")]\n",
    "counts_by_year_df['year'] = counts_by_year_df['counts_by_year'].apply(\n",
    "    lambda x: x['year'])\n",
    "counts_by_year_df['works_count'] = counts_by_year_df['counts_by_year'].apply(\n",
    "    lambda x: x['works_count'])\n",
    "counts_by_year_df['cited_by_count'] = counts_by_year_df['counts_by_year'].apply(\n",
    "    lambda x: x['cited_by_count'])\n",
    "\n",
    "counts_by_year_df.drop(columns='counts_by_year', inplace=True)\n",
    "counts_by_year_df"
   ]
  },
  {
   "cell_type": "code",
   "execution_count": null,
   "metadata": {},
   "outputs": [],
   "source": [
    "import os\n",
    "import logging\n",
    "from openai import OpenAI\n",
    "\n",
    "# Initialize the OpenAI client\n",
    "client = OpenAI(api_key=os.getenv(\"OPENAI_API_KEY\"))\n",
    "\n",
    "\n",
    "def get_gender_predictions(names_list):\n",
    "    \"\"\"\n",
    "    Takes a list of names and returns a list of gender predictions.\n",
    "\n",
    "    :param names_list: List of names (strings) to predict genders for.\n",
    "    :return: List of predicted genders corresponding to each name.\n",
    "    \"\"\"\n",
    "    # Join the names into a single string, separated by commas\n",
    "    input_string = \", \".join(names_list)\n",
    "\n",
    "    # Create a single response for the list of names\n",
    "    response = client.responses.create(\n",
    "        model='gpt-4',\n",
    "        instructions=(\n",
    "            'You are a helpful assistant that determines the most likely gender of a list of persons with specified names. '\n",
    "            'Respond with a comma-separated list of genders corresponding to each name: \"Male\", \"Female\", or \"Unknown\".'\n",
    "        ),\n",
    "        input=f\"Names: {input_string}.\"\n",
    "    )\n",
    "\n",
    "    # Log the response\n",
    "    logging.info(f\"Response: {response}\")\n",
    "\n",
    "    # Extract the response text and split it into a list of genders\n",
    "    genders = response.output_text.strip().split(\", \")\n",
    "\n",
    "    return genders\n",
    "\n",
    "\n",
    "# # Example usage\n",
    "names = [\"Alice\", \"Bob\", \"Charlie\"]\n",
    "genders = get_gender_predictions(names)"
   ]
  },
  {
   "cell_type": "code",
   "execution_count": null,
   "metadata": {},
   "outputs": [],
   "source": [
    "import re\n",
    "df['strip_display_name'] = df['display_name'].str.replace(\n",
    "    '\\.\\s?', ' ', regex=True)\n",
    "\n",
    "# Filter the DataFrame\n",
    "filtered_df = df[~df['strip_display_name'].str.match(\n",
    "    r'^\\b\\w{1,2}\\b ')]\n",
    "name_to_gender = {}\n",
    "unique_names = filtered_df['strip_display_name'].unique()\n",
    "\n",
    "chunk_size = 500\n",
    "for i in range(0, len(unique_names), chunk_size):\n",
    "    chunk = unique_names[i:i + chunk_size]\n",
    "    predicted_genders = get_gender_predictions(chunk)\n",
    "    name_to_gender.update(dict(zip(chunk, predicted_genders)))\n",
    "    if (i // chunk_size) % 10 == 0:\n",
    "        with open(f'data/gender_predictions_{i}.json', 'w') as f:\n",
    "            json.dump(name_to_gender, f)"
   ]
  }
 ],
 "metadata": {
  "kernelspec": {
   "display_name": "base",
   "language": "python",
   "name": "python3"
  },
  "language_info": {
   "codemirror_mode": {
    "name": "ipython",
    "version": 3
   },
   "file_extension": ".py",
   "mimetype": "text/x-python",
   "name": "python",
   "nbconvert_exporter": "python",
   "pygments_lexer": "ipython3",
   "version": "3.11.11"
  }
 },
 "nbformat": 4,
 "nbformat_minor": 2
}
