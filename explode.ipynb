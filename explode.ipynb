{
 "cells": [
  {
   "cell_type": "code",
   "execution_count": 1,
   "metadata": {},
   "outputs": [
    {
     "name": "stdout",
     "output_type": "stream",
     "text": [
      "Author list 0 loaded from file.\n",
      "Author list 1 loaded from file.\n",
      "Author list 2 loaded from file.\n",
      "Author list 3 loaded from file.\n",
      "Author list 4 loaded from file.\n",
      "Author list 5 loaded from file.\n",
      "Author list 6 loaded from file.\n",
      "Author list 7 loaded from file.\n",
      "Author list 8 loaded from file.\n",
      "Author list 9 loaded from file.\n"
     ]
    }
   ],
   "source": [
    "import requests\n",
    "import json\n",
    "import pandas as pd\n",
    "from pprint import pprint\n",
    "import pickle\n",
    "\n",
    "base_url = \"https://api.openalex.org/\"\n",
    "email = \"katz.562@osu.edu\"\n",
    "\n",
    "\n",
    "def pickle_dump(data, filename):\n",
    "    with open(filename, 'wb') as f:\n",
    "        pickle.dump(data, f)\n",
    "\n",
    "\n",
    "author_list = []\n",
    "for j in range(10):\n",
    "    try:\n",
    "        author_list.extend(pickle.load(\n",
    "            open(f\"data/author_list_{j}.pkl\", 'rb')))\n",
    "        print(f\"Author list {j} loaded from file.\")\n",
    "    except FileNotFoundError:\n",
    "        sample = 10000\n",
    "        per_page = 200\n",
    "        while j < 10:\n",
    "            new_author_list = []\n",
    "            print(f\"{j}th sample\")\n",
    "            seed = 3142+j\n",
    "            i = 1\n",
    "            while i <= sample/per_page:\n",
    "                print(f\"Page {i}\")\n",
    "                response = requests.get(base_url + \"authors\",\n",
    "                                        params={'sample': sample, 'seed': seed, 'per-page': per_page, 'page': i})\n",
    "                data = response.json()\n",
    "                if len(data['results']) == 0:\n",
    "                    break\n",
    "                new_author_list.extend(data['results'])\n",
    "                i += 1\n",
    "            filename = f\"data/author_list_{j}.json\"\n",
    "            print(f'Saving {len(new_author_list)} authors to {filename}')\n",
    "            pickle_dump(new_author_list, f\"data/author_list_{j}.pkl\")\n",
    "            j += 1\n",
    "\n",
    "dropcolumns = ['orcid', 'display_name_alternatives', 'relevance_score', 'summary_stats', 'ids',\n",
    "               'affiliations', 'last_known_institutions', 'topics', 'topic_share', 'updated_date', 'created_date']\n",
    "df = pd.DataFrame(author_list).drop(columns=dropcolumns)"
   ]
  },
  {
   "cell_type": "code",
   "execution_count": null,
   "metadata": {},
   "outputs": [],
   "source": [
    "# def list_columns(df):\n",
    "#     return [col for col in df.columns if isinstance(df[col].iloc[0], list)]\n",
    "\n",
    "\n",
    "# def dict_columns(df):\n",
    "#     return [col for col in df.columns if isinstance(df[col].iloc[0], dict)]\n",
    "\n",
    "\n",
    "# lcols = list_columns(df)\n",
    "# dcols = dict_columns(df)\n",
    "\n",
    "# serialized = {}\n",
    "# for col in dcols:\n",
    "#     serialized[col] = pd.json_normalize(df[col])\n",
    "#     serialized[col]['id'] = df['id']\n",
    "\n",
    "# exploded = {}\n",
    "# for col in lcols:\n",
    "#     exploded[col] = df[['id', col]].explode(col)"
   ]
  },
  {
   "cell_type": "code",
   "execution_count": 2,
   "metadata": {},
   "outputs": [
    {
     "data": {
      "application/vnd.microsoft.datawrangler.viewer.v0+json": {
       "columns": [
        {
         "name": "index",
         "rawType": "int64",
         "type": "integer"
        },
        {
         "name": "id",
         "rawType": "object",
         "type": "string"
        },
        {
         "name": "x_concepts",
         "rawType": "object",
         "type": "unknown"
        }
       ],
       "conversionMethod": "pd.DataFrame",
       "ref": "e062695d-1260-4e06-b901-979a797c99c0",
       "rows": [
        [
         "0",
         "https://openalex.org/A5092356489",
         "Humanities"
        ],
        [
         "0",
         "https://openalex.org/A5092356489",
         "Gynecology"
        ],
        [
         "0",
         "https://openalex.org/A5092356489",
         "Medicine"
        ],
        [
         "0",
         "https://openalex.org/A5092356489",
         "Forestry"
        ],
        [
         "0",
         "https://openalex.org/A5092356489",
         "Physics"
        ],
        [
         "0",
         "https://openalex.org/A5092356489",
         "Philosophy"
        ],
        [
         "0",
         "https://openalex.org/A5092356489",
         "Art"
        ],
        [
         "0",
         "https://openalex.org/A5092356489",
         "Geography"
        ],
        [
         "1",
         "https://openalex.org/A5087968922",
         "genomic DNA"
        ],
        [
         "1",
         "https://openalex.org/A5087968922",
         "Exon"
        ],
        [
         "1",
         "https://openalex.org/A5087968922",
         "Polymerase chain reaction"
        ],
        [
         "1",
         "https://openalex.org/A5087968922",
         "DNA sequencing"
        ],
        [
         "1",
         "https://openalex.org/A5087968922",
         "Genetics"
        ],
        [
         "1",
         "https://openalex.org/A5087968922",
         "Biochemistry"
        ],
        [
         "1",
         "https://openalex.org/A5087968922",
         "Biology"
        ],
        [
         "1",
         "https://openalex.org/A5087968922",
         "Coding region"
        ],
        [
         "1",
         "https://openalex.org/A5087968922",
         "Gene"
        ],
        [
         "1",
         "https://openalex.org/A5087968922",
         "Messenger RNA"
        ],
        [
         "1",
         "https://openalex.org/A5087968922",
         "Single-strand conformation polymorphism"
        ],
        [
         "1",
         "https://openalex.org/A5087968922",
         "Genotype"
        ],
        [
         "1",
         "https://openalex.org/A5087968922",
         "Polymorphism (computer science)"
        ],
        [
         "1",
         "https://openalex.org/A5087968922",
         "Molecular biology"
        ],
        [
         "1",
         "https://openalex.org/A5087968922",
         "Restriction fragment length polymorphism"
        ],
        [
         "1",
         "https://openalex.org/A5087968922",
         "Start codon"
        ],
        [
         "1",
         "https://openalex.org/A5087968922",
         "Allele"
        ],
        [
         "1",
         "https://openalex.org/A5087968922",
         "Chemistry"
        ],
        [
         "1",
         "https://openalex.org/A5087968922",
         "Mutation"
        ],
        [
         "1",
         "https://openalex.org/A5087968922",
         "Nucleotide"
        ],
        [
         "1",
         "https://openalex.org/A5087968922",
         "DNA"
        ],
        [
         "1",
         "https://openalex.org/A5087968922",
         "Base sequence"
        ],
        [
         "2",
         "https://openalex.org/A5114128731",
         "Agronomy"
        ],
        [
         "2",
         "https://openalex.org/A5114128731",
         "Pyrolysis"
        ],
        [
         "2",
         "https://openalex.org/A5114128731",
         "Chemical engineering"
        ],
        [
         "2",
         "https://openalex.org/A5114128731",
         "Biochemistry"
        ],
        [
         "2",
         "https://openalex.org/A5114128731",
         "Biochar"
        ],
        [
         "2",
         "https://openalex.org/A5114128731",
         "Quantum mechanics"
        ],
        [
         "2",
         "https://openalex.org/A5114128731",
         "Photocatalysis"
        ],
        [
         "2",
         "https://openalex.org/A5114128731",
         "Biology"
        ],
        [
         "2",
         "https://openalex.org/A5114128731",
         "Physics"
        ],
        [
         "2",
         "https://openalex.org/A5114128731",
         "Engineering"
        ],
        [
         "2",
         "https://openalex.org/A5114128731",
         "Ball mill"
        ],
        [
         "2",
         "https://openalex.org/A5114128731",
         "Physical chemistry"
        ],
        [
         "2",
         "https://openalex.org/A5114128731",
         "Adsorption"
        ],
        [
         "2",
         "https://openalex.org/A5114128731",
         "Composite material"
        ],
        [
         "2",
         "https://openalex.org/A5114128731",
         "Catalysis"
        ],
        [
         "2",
         "https://openalex.org/A5114128731",
         "Organic chemistry"
        ],
        [
         "2",
         "https://openalex.org/A5114128731",
         "Inorganic chemistry"
        ],
        [
         "2",
         "https://openalex.org/A5114128731",
         "Aqueous solution"
        ],
        [
         "2",
         "https://openalex.org/A5114128731",
         "Chemistry"
        ],
        [
         "2",
         "https://openalex.org/A5114128731",
         "Metallurgy"
        ]
       ],
       "shape": {
        "columns": 2,
        "rows": 1327117
       }
      },
      "text/html": [
       "<div>\n",
       "<style scoped>\n",
       "    .dataframe tbody tr th:only-of-type {\n",
       "        vertical-align: middle;\n",
       "    }\n",
       "\n",
       "    .dataframe tbody tr th {\n",
       "        vertical-align: top;\n",
       "    }\n",
       "\n",
       "    .dataframe thead th {\n",
       "        text-align: right;\n",
       "    }\n",
       "</style>\n",
       "<table border=\"1\" class=\"dataframe\">\n",
       "  <thead>\n",
       "    <tr style=\"text-align: right;\">\n",
       "      <th></th>\n",
       "      <th>id</th>\n",
       "      <th>x_concepts</th>\n",
       "    </tr>\n",
       "  </thead>\n",
       "  <tbody>\n",
       "    <tr>\n",
       "      <th>0</th>\n",
       "      <td>https://openalex.org/A5092356489</td>\n",
       "      <td>Humanities</td>\n",
       "    </tr>\n",
       "    <tr>\n",
       "      <th>0</th>\n",
       "      <td>https://openalex.org/A5092356489</td>\n",
       "      <td>Gynecology</td>\n",
       "    </tr>\n",
       "    <tr>\n",
       "      <th>0</th>\n",
       "      <td>https://openalex.org/A5092356489</td>\n",
       "      <td>Medicine</td>\n",
       "    </tr>\n",
       "    <tr>\n",
       "      <th>0</th>\n",
       "      <td>https://openalex.org/A5092356489</td>\n",
       "      <td>Forestry</td>\n",
       "    </tr>\n",
       "    <tr>\n",
       "      <th>0</th>\n",
       "      <td>https://openalex.org/A5092356489</td>\n",
       "      <td>Physics</td>\n",
       "    </tr>\n",
       "    <tr>\n",
       "      <th>...</th>\n",
       "      <td>...</td>\n",
       "      <td>...</td>\n",
       "    </tr>\n",
       "    <tr>\n",
       "      <th>99999</th>\n",
       "      <td>https://openalex.org/A5070158048</td>\n",
       "      <td>Agronomy</td>\n",
       "    </tr>\n",
       "    <tr>\n",
       "      <th>99999</th>\n",
       "      <td>https://openalex.org/A5070158048</td>\n",
       "      <td>Medicine</td>\n",
       "    </tr>\n",
       "    <tr>\n",
       "      <th>99999</th>\n",
       "      <td>https://openalex.org/A5070158048</td>\n",
       "      <td>Chemistry</td>\n",
       "    </tr>\n",
       "    <tr>\n",
       "      <th>99999</th>\n",
       "      <td>https://openalex.org/A5070158048</td>\n",
       "      <td>Genetics</td>\n",
       "    </tr>\n",
       "    <tr>\n",
       "      <th>99999</th>\n",
       "      <td>https://openalex.org/A5070158048</td>\n",
       "      <td>Artocarpus</td>\n",
       "    </tr>\n",
       "  </tbody>\n",
       "</table>\n",
       "<p>1327117 rows × 2 columns</p>\n",
       "</div>"
      ],
      "text/plain": [
       "                                     id  x_concepts\n",
       "0      https://openalex.org/A5092356489  Humanities\n",
       "0      https://openalex.org/A5092356489  Gynecology\n",
       "0      https://openalex.org/A5092356489    Medicine\n",
       "0      https://openalex.org/A5092356489    Forestry\n",
       "0      https://openalex.org/A5092356489     Physics\n",
       "...                                 ...         ...\n",
       "99999  https://openalex.org/A5070158048    Agronomy\n",
       "99999  https://openalex.org/A5070158048    Medicine\n",
       "99999  https://openalex.org/A5070158048   Chemistry\n",
       "99999  https://openalex.org/A5070158048    Genetics\n",
       "99999  https://openalex.org/A5070158048  Artocarpus\n",
       "\n",
       "[1327117 rows x 2 columns]"
      ]
     },
     "execution_count": 2,
     "metadata": {},
     "output_type": "execute_result"
    }
   ],
   "source": [
    "df['x_concepts'] = df['x_concepts'].apply(\n",
    "    lambda x: [concept['display_name'] for concept in x])\n",
    "x_concepts_df = df[['id', 'x_concepts']].explode('x_concepts')\n",
    "x_concepts_df"
   ]
  },
  {
   "cell_type": "code",
   "execution_count": 35,
   "metadata": {},
   "outputs": [
    {
     "data": {
      "application/vnd.microsoft.datawrangler.viewer.v0+json": {
       "columns": [
        {
         "name": "index",
         "rawType": "int64",
         "type": "integer"
        },
        {
         "name": "id",
         "rawType": "object",
         "type": "string"
        },
        {
         "name": "year",
         "rawType": "int64",
         "type": "integer"
        },
        {
         "name": "works_count",
         "rawType": "int64",
         "type": "integer"
        },
        {
         "name": "cited_by_count",
         "rawType": "int64",
         "type": "integer"
        }
       ],
       "conversionMethod": "pd.DataFrame",
       "ref": "6cad9dc0-9fd6-4267-8927-1d6a52114b23",
       "rows": [
        [
         "0",
         "https://openalex.org/A5092356489",
         "2024",
         "0",
         "1"
        ],
        [
         "0",
         "https://openalex.org/A5092356489",
         "2023",
         "2",
         "0"
        ],
        [
         "1",
         "https://openalex.org/A5087968922",
         "2022",
         "0",
         "2"
        ],
        [
         "1",
         "https://openalex.org/A5087968922",
         "2018",
         "0",
         "1"
        ],
        [
         "2",
         "https://openalex.org/A5114128731",
         "2024",
         "2",
         "0"
        ],
        [
         "4",
         "https://openalex.org/A5017708815",
         "2023",
         "0",
         "1"
        ],
        [
         "4",
         "https://openalex.org/A5017708815",
         "2020",
         "0",
         "1"
        ],
        [
         "4",
         "https://openalex.org/A5017708815",
         "2019",
         "1",
         "0"
        ],
        [
         "4",
         "https://openalex.org/A5017708815",
         "2018",
         "1",
         "0"
        ],
        [
         "5",
         "https://openalex.org/A5038232653",
         "2024",
         "0",
         "1"
        ],
        [
         "5",
         "https://openalex.org/A5038232653",
         "2022",
         "0",
         "2"
        ],
        [
         "5",
         "https://openalex.org/A5038232653",
         "2020",
         "0",
         "5"
        ],
        [
         "5",
         "https://openalex.org/A5038232653",
         "2019",
         "0",
         "2"
        ],
        [
         "5",
         "https://openalex.org/A5038232653",
         "2017",
         "0",
         "1"
        ],
        [
         "5",
         "https://openalex.org/A5038232653",
         "2015",
         "0",
         "1"
        ],
        [
         "5",
         "https://openalex.org/A5038232653",
         "2014",
         "0",
         "2"
        ],
        [
         "5",
         "https://openalex.org/A5038232653",
         "2013",
         "0",
         "3"
        ],
        [
         "5",
         "https://openalex.org/A5038232653",
         "2012",
         "0",
         "1"
        ],
        [
         "6",
         "https://openalex.org/A5067868239",
         "2021",
         "1",
         "0"
        ],
        [
         "6",
         "https://openalex.org/A5067868239",
         "2019",
         "1",
         "0"
        ],
        [
         "8",
         "https://openalex.org/A5004616759",
         "2013",
         "1",
         "0"
        ],
        [
         "10",
         "https://openalex.org/A5095940583",
         "2025",
         "0",
         "4"
        ],
        [
         "10",
         "https://openalex.org/A5095940583",
         "2024",
         "1",
         "0"
        ],
        [
         "11",
         "https://openalex.org/A5058644277",
         "2015",
         "1",
         "0"
        ],
        [
         "12",
         "https://openalex.org/A5111294908",
         "2024",
         "1",
         "0"
        ],
        [
         "13",
         "https://openalex.org/A5084378526",
         "2025",
         "1",
         "13"
        ],
        [
         "13",
         "https://openalex.org/A5084378526",
         "2024",
         "7",
         "37"
        ],
        [
         "13",
         "https://openalex.org/A5084378526",
         "2023",
         "1",
         "14"
        ],
        [
         "13",
         "https://openalex.org/A5084378526",
         "2022",
         "2",
         "1"
        ],
        [
         "14",
         "https://openalex.org/A5006981693",
         "2014",
         "1",
         "0"
        ],
        [
         "16",
         "https://openalex.org/A5002771042",
         "2023",
         "0",
         "1"
        ],
        [
         "16",
         "https://openalex.org/A5002771042",
         "2022",
         "0",
         "1"
        ],
        [
         "16",
         "https://openalex.org/A5002771042",
         "2020",
         "0",
         "2"
        ],
        [
         "16",
         "https://openalex.org/A5002771042",
         "2018",
         "1",
         "0"
        ],
        [
         "17",
         "https://openalex.org/A5086830592",
         "2019",
         "0",
         "1"
        ],
        [
         "17",
         "https://openalex.org/A5086830592",
         "2018",
         "0",
         "2"
        ],
        [
         "17",
         "https://openalex.org/A5086830592",
         "2017",
         "0",
         "5"
        ],
        [
         "17",
         "https://openalex.org/A5086830592",
         "2016",
         "0",
         "2"
        ],
        [
         "17",
         "https://openalex.org/A5086830592",
         "2015",
         "0",
         "1"
        ],
        [
         "17",
         "https://openalex.org/A5086830592",
         "2014",
         "0",
         "4"
        ],
        [
         "17",
         "https://openalex.org/A5086830592",
         "2013",
         "1",
         "9"
        ],
        [
         "17",
         "https://openalex.org/A5086830592",
         "2012",
         "1",
         "6"
        ],
        [
         "18",
         "https://openalex.org/A5039675094",
         "2013",
         "1",
         "0"
        ],
        [
         "19",
         "https://openalex.org/A5044517721",
         "2023",
         "3",
         "0"
        ],
        [
         "21",
         "https://openalex.org/A5051282669",
         "2020",
         "1",
         "0"
        ],
        [
         "22",
         "https://openalex.org/A5058813694",
         "2013",
         "1",
         "0"
        ],
        [
         "23",
         "https://openalex.org/A5098133485",
         "2021",
         "1",
         "0"
        ],
        [
         "25",
         "https://openalex.org/A5058743877",
         "2024",
         "1",
         "0"
        ],
        [
         "25",
         "https://openalex.org/A5058743877",
         "2022",
         "1",
         "0"
        ],
        [
         "25",
         "https://openalex.org/A5058743877",
         "2021",
         "1",
         "0"
        ]
       ],
       "shape": {
        "columns": 4,
        "rows": 324931
       }
      },
      "text/html": [
       "<div>\n",
       "<style scoped>\n",
       "    .dataframe tbody tr th:only-of-type {\n",
       "        vertical-align: middle;\n",
       "    }\n",
       "\n",
       "    .dataframe tbody tr th {\n",
       "        vertical-align: top;\n",
       "    }\n",
       "\n",
       "    .dataframe thead th {\n",
       "        text-align: right;\n",
       "    }\n",
       "</style>\n",
       "<table border=\"1\" class=\"dataframe\">\n",
       "  <thead>\n",
       "    <tr style=\"text-align: right;\">\n",
       "      <th></th>\n",
       "      <th>id</th>\n",
       "      <th>year</th>\n",
       "      <th>works_count</th>\n",
       "      <th>cited_by_count</th>\n",
       "    </tr>\n",
       "  </thead>\n",
       "  <tbody>\n",
       "    <tr>\n",
       "      <th>0</th>\n",
       "      <td>https://openalex.org/A5092356489</td>\n",
       "      <td>2024</td>\n",
       "      <td>0</td>\n",
       "      <td>1</td>\n",
       "    </tr>\n",
       "    <tr>\n",
       "      <th>0</th>\n",
       "      <td>https://openalex.org/A5092356489</td>\n",
       "      <td>2023</td>\n",
       "      <td>2</td>\n",
       "      <td>0</td>\n",
       "    </tr>\n",
       "    <tr>\n",
       "      <th>1</th>\n",
       "      <td>https://openalex.org/A5087968922</td>\n",
       "      <td>2022</td>\n",
       "      <td>0</td>\n",
       "      <td>2</td>\n",
       "    </tr>\n",
       "    <tr>\n",
       "      <th>1</th>\n",
       "      <td>https://openalex.org/A5087968922</td>\n",
       "      <td>2018</td>\n",
       "      <td>0</td>\n",
       "      <td>1</td>\n",
       "    </tr>\n",
       "    <tr>\n",
       "      <th>2</th>\n",
       "      <td>https://openalex.org/A5114128731</td>\n",
       "      <td>2024</td>\n",
       "      <td>2</td>\n",
       "      <td>0</td>\n",
       "    </tr>\n",
       "    <tr>\n",
       "      <th>...</th>\n",
       "      <td>...</td>\n",
       "      <td>...</td>\n",
       "      <td>...</td>\n",
       "      <td>...</td>\n",
       "    </tr>\n",
       "    <tr>\n",
       "      <th>99999</th>\n",
       "      <td>https://openalex.org/A5070158048</td>\n",
       "      <td>2021</td>\n",
       "      <td>0</td>\n",
       "      <td>3</td>\n",
       "    </tr>\n",
       "    <tr>\n",
       "      <th>99999</th>\n",
       "      <td>https://openalex.org/A5070158048</td>\n",
       "      <td>2020</td>\n",
       "      <td>1</td>\n",
       "      <td>2</td>\n",
       "    </tr>\n",
       "    <tr>\n",
       "      <th>99999</th>\n",
       "      <td>https://openalex.org/A5070158048</td>\n",
       "      <td>2018</td>\n",
       "      <td>3</td>\n",
       "      <td>3</td>\n",
       "    </tr>\n",
       "    <tr>\n",
       "      <th>99999</th>\n",
       "      <td>https://openalex.org/A5070158048</td>\n",
       "      <td>2016</td>\n",
       "      <td>1</td>\n",
       "      <td>1</td>\n",
       "    </tr>\n",
       "    <tr>\n",
       "      <th>99999</th>\n",
       "      <td>https://openalex.org/A5070158048</td>\n",
       "      <td>2015</td>\n",
       "      <td>3</td>\n",
       "      <td>0</td>\n",
       "    </tr>\n",
       "  </tbody>\n",
       "</table>\n",
       "<p>324931 rows × 4 columns</p>\n",
       "</div>"
      ],
      "text/plain": [
       "                                     id  year  works_count  cited_by_count\n",
       "0      https://openalex.org/A5092356489  2024            0               1\n",
       "0      https://openalex.org/A5092356489  2023            2               0\n",
       "1      https://openalex.org/A5087968922  2022            0               2\n",
       "1      https://openalex.org/A5087968922  2018            0               1\n",
       "2      https://openalex.org/A5114128731  2024            2               0\n",
       "...                                 ...   ...          ...             ...\n",
       "99999  https://openalex.org/A5070158048  2021            0               3\n",
       "99999  https://openalex.org/A5070158048  2020            1               2\n",
       "99999  https://openalex.org/A5070158048  2018            3               3\n",
       "99999  https://openalex.org/A5070158048  2016            1               1\n",
       "99999  https://openalex.org/A5070158048  2015            3               0\n",
       "\n",
       "[324931 rows x 4 columns]"
      ]
     },
     "execution_count": 35,
     "metadata": {},
     "output_type": "execute_result"
    }
   ],
   "source": [
    "counts_by_year_df = df[['id', 'counts_by_year']].explode('counts_by_year')\n",
    "counts_by_year_df = counts_by_year_df[counts_by_year_df['counts_by_year'].notna(\n",
    ")]\n",
    "counts_by_year_df['year'] = counts_by_year_df['counts_by_year'].apply(\n",
    "    lambda x: x['year'])\n",
    "counts_by_year_df['works_count'] = counts_by_year_df['counts_by_year'].apply(\n",
    "    lambda x: x['works_count'])\n",
    "counts_by_year_df['cited_by_count'] = counts_by_year_df['counts_by_year'].apply(\n",
    "    lambda x: x['cited_by_count'])\n",
    "\n",
    "counts_by_year_df.drop(columns='counts_by_year', inplace=True)\n",
    "counts_by_year_df"
   ]
  },
  {
   "cell_type": "code",
   "execution_count": 26,
   "metadata": {},
   "outputs": [],
   "source": [
    "import os\n",
    "import logging\n",
    "from openai import OpenAI\n",
    "from pprint import pprint\n",
    "# Initialize the OpenAI client\n",
    "client = OpenAI(api_key=os.getenv(\"OPENAI_API_KEY\"))\n",
    "\n",
    "\n",
    "def get_gender_predictions(names_list):\n",
    "    \"\"\"\n",
    "    Takes a list of names and returns a list of gender predictions.\n",
    "\n",
    "    :param names_list: List of names (strings) to predict genders for.\n",
    "    :return: List of predicted genders corresponding to each name.\n",
    "    \"\"\"\n",
    "    # Join the names into a single string, separated by commas\n",
    "    input_string = \", \".join(names_list)\n",
    "\n",
    "    # Create a single response for the list of names\n",
    "    response = client.responses.create(\n",
    "        model='gpt-3.5-turbo',\n",
    "\n",
    "        instructions=(\n",
    "            'You are a helpful assistant that determines the most likely gender of a list of persons with specified names. '\n",
    "            'Respond with a comma-separated list of genders corresponding to each name: \"Male\", \"Female\", or \"Unknown\".'\n",
    "        ),\n",
    "        input=f\"Names: {input_string}.\"\n",
    "    )\n",
    "\n",
    "    # Log the response\n",
    "    logging.info(f\"Response: {response}\")\n",
    "    # Extract the response text and split it into a list of genders\n",
    "    genders = response.output_text.strip().split(\", \")\n",
    "\n",
    "    return genders\n",
    "\n",
    "\n",
    "# # Example usage\n",
    "names = [\"Alice\", \"Bob\", \"Charlie\"]\n",
    "genders = get_gender_predictions(names)"
   ]
  },
  {
   "cell_type": "code",
   "execution_count": 27,
   "metadata": {},
   "outputs": [
    {
     "name": "stdout",
     "output_type": "stream",
     "text": [
      "Processing chunk 21 of 143\n",
      "Saving progress after processing 10472 names.\n",
      "Processing chunk 22 of 143\n",
      "Processing chunk 23 of 143\n",
      "Processing chunk 24 of 143\n",
      "Processing chunk 25 of 143\n",
      "Processing chunk 26 of 143\n",
      "Processing chunk 27 of 143\n",
      "Processing chunk 28 of 143\n",
      "Processing chunk 29 of 143\n",
      "Processing chunk 30 of 143\n",
      "Processing chunk 31 of 143\n",
      "Saving progress after processing 15472 names.\n",
      "Processing chunk 32 of 143\n",
      "Processing chunk 33 of 143\n",
      "Processing chunk 34 of 143\n",
      "Processing chunk 35 of 143\n",
      "Processing chunk 36 of 143\n",
      "Processing chunk 37 of 143\n",
      "Processing chunk 38 of 143\n",
      "Processing chunk 39 of 143\n",
      "Processing chunk 40 of 143\n",
      "Processing chunk 41 of 143\n",
      "Saving progress after processing 20472 names.\n",
      "Processing chunk 42 of 143\n",
      "Processing chunk 43 of 143\n",
      "Processing chunk 44 of 143\n",
      "Processing chunk 45 of 143\n",
      "Processing chunk 46 of 143\n",
      "Processing chunk 47 of 143\n",
      "Processing chunk 48 of 143\n",
      "Processing chunk 49 of 143\n",
      "Processing chunk 50 of 143\n",
      "Processing chunk 51 of 143\n",
      "Saving progress after processing 25472 names.\n",
      "Processing chunk 52 of 143\n",
      "Processing chunk 53 of 143\n",
      "Processing chunk 54 of 143\n",
      "Processing chunk 55 of 143\n",
      "Processing chunk 56 of 143\n",
      "Processing chunk 57 of 143\n",
      "Processing chunk 58 of 143\n",
      "Processing chunk 59 of 143\n",
      "Processing chunk 60 of 143\n",
      "Processing chunk 61 of 143\n",
      "Saving progress after processing 30472 names.\n",
      "Processing chunk 62 of 143\n",
      "Processing chunk 63 of 143\n",
      "Processing chunk 64 of 143\n",
      "Processing chunk 65 of 143\n",
      "Processing chunk 66 of 143\n",
      "Processing chunk 67 of 143\n",
      "Processing chunk 68 of 143\n",
      "Processing chunk 69 of 143\n",
      "Processing chunk 70 of 143\n",
      "Processing chunk 71 of 143\n",
      "Saving progress after processing 35472 names.\n",
      "Processing chunk 72 of 143\n",
      "Processing chunk 73 of 143\n",
      "Processing chunk 74 of 143\n",
      "Processing chunk 75 of 143\n",
      "Processing chunk 76 of 143\n",
      "Processing chunk 77 of 143\n",
      "Processing chunk 78 of 143\n",
      "Processing chunk 79 of 143\n",
      "Processing chunk 80 of 143\n",
      "Processing chunk 81 of 143\n",
      "Saving progress after processing 40472 names.\n",
      "Processing chunk 82 of 143\n",
      "Processing chunk 83 of 143\n",
      "Processing chunk 84 of 143\n",
      "Processing chunk 85 of 143\n",
      "Processing chunk 86 of 143\n",
      "Processing chunk 87 of 143\n",
      "Processing chunk 88 of 143\n",
      "Processing chunk 89 of 143\n",
      "Processing chunk 90 of 143\n",
      "Processing chunk 91 of 143\n",
      "Saving progress after processing 45472 names.\n",
      "Processing chunk 92 of 143\n",
      "Processing chunk 93 of 143\n",
      "Processing chunk 94 of 143\n",
      "Processing chunk 95 of 143\n",
      "Processing chunk 96 of 143\n",
      "Processing chunk 97 of 143\n",
      "Processing chunk 98 of 143\n",
      "Processing chunk 99 of 143\n",
      "Processing chunk 100 of 143\n",
      "Processing chunk 101 of 143\n",
      "Saving progress after processing 50472 names.\n",
      "Processing chunk 102 of 143\n",
      "Processing chunk 103 of 143\n",
      "Processing chunk 104 of 143\n",
      "Processing chunk 105 of 143\n",
      "Processing chunk 106 of 143\n",
      "Processing chunk 107 of 143\n",
      "Processing chunk 108 of 143\n",
      "Processing chunk 109 of 143\n",
      "Processing chunk 110 of 143\n",
      "Processing chunk 111 of 143\n",
      "Saving progress after processing 55472 names.\n",
      "Processing chunk 112 of 143\n",
      "Processing chunk 113 of 143\n",
      "Processing chunk 114 of 143\n",
      "Processing chunk 115 of 143\n",
      "Processing chunk 116 of 143\n",
      "Processing chunk 117 of 143\n",
      "Processing chunk 118 of 143\n",
      "Processing chunk 119 of 143\n",
      "Processing chunk 120 of 143\n",
      "Processing chunk 121 of 143\n",
      "Saving progress after processing 60472 names.\n",
      "Processing chunk 122 of 143\n",
      "Processing chunk 123 of 143\n",
      "Processing chunk 124 of 143\n",
      "Processing chunk 125 of 143\n",
      "Processing chunk 126 of 143\n",
      "Processing chunk 127 of 143\n",
      "Processing chunk 128 of 143\n",
      "Processing chunk 129 of 143\n",
      "Processing chunk 130 of 143\n",
      "Processing chunk 131 of 143\n",
      "Saving progress after processing 65472 names.\n",
      "Processing chunk 132 of 143\n",
      "Processing chunk 133 of 143\n",
      "Processing chunk 134 of 143\n",
      "Processing chunk 135 of 143\n",
      "Processing chunk 136 of 143\n",
      "Processing chunk 137 of 143\n",
      "Processing chunk 138 of 143\n",
      "Processing chunk 139 of 143\n",
      "Processing chunk 140 of 143\n",
      "Processing chunk 141 of 143\n",
      "Saving progress after processing 70472 names.\n",
      "Processing chunk 142 of 143\n"
     ]
    }
   ],
   "source": [
    "import re\n",
    "import glob\n",
    "df['strip_display_name'] = df['display_name'].str.replace(\n",
    "    '\\.\\s?', ' ', regex=True)\n",
    "\n",
    "# Filter the DataFrame\n",
    "filtered_df = df[~df['strip_display_name'].str.match(\n",
    "    r'^\\b\\w{1,2}\\b ')]\n",
    "\n",
    "name_to_gender = json.load(open('data/gender_predictions_10000.json', 'r'))\n",
    "\n",
    "unique_names = filtered_df['strip_display_name'].unique()\n",
    "\n",
    "\n",
    "chunk_size = 500\n",
    "for i in range(len(name_to_gender), len(unique_names), chunk_size):\n",
    "    chunk = unique_names[i:i + chunk_size]\n",
    "    print(\n",
    "        f\"Processing chunk {i // chunk_size + 1} of {len(unique_names) // chunk_size + 1}\")\n",
    "    predicted_genders = get_gender_predictions(chunk)\n",
    "    name_to_gender.update(dict(zip(chunk, predicted_genders)))\n",
    "    if (i // chunk_size) % 10 == 0:\n",
    "        print(f\"Saving progress after processing {i} names.\")\n",
    "        with open(f'data/gender_predictions_{i}.json', 'w') as f:\n",
    "            json.dump(name_to_gender, f)"
   ]
  },
  {
   "cell_type": "code",
   "execution_count": null,
   "metadata": {},
   "outputs": [],
   "source": []
  },
  {
   "cell_type": "code",
   "execution_count": 28,
   "metadata": {},
   "outputs": [],
   "source": [
    "json.dump(name_to_gender, open('data/gender_predictions.json', 'w'))"
   ]
  },
  {
   "cell_type": "code",
   "execution_count": 29,
   "metadata": {},
   "outputs": [
    {
     "name": "stderr",
     "output_type": "stream",
     "text": [
      "/var/folders/ph/vmwntg591nz4p53wxs1w08dr0000gn/T/ipykernel_80196/3246144907.py:1: SettingWithCopyWarning: \n",
      "A value is trying to be set on a copy of a slice from a DataFrame.\n",
      "Try using .loc[row_indexer,col_indexer] = value instead\n",
      "\n",
      "See the caveats in the documentation: https://pandas.pydata.org/pandas-docs/stable/user_guide/indexing.html#returning-a-view-versus-a-copy\n",
      "  filtered_df['predicted_gender'] = filtered_df['strip_display_name'].map(\n"
     ]
    },
    {
     "data": {
      "application/vnd.microsoft.datawrangler.viewer.v0+json": {
       "columns": [
        {
         "name": "index",
         "rawType": "int64",
         "type": "integer"
        },
        {
         "name": "id",
         "rawType": "object",
         "type": "string"
        },
        {
         "name": "display_name",
         "rawType": "object",
         "type": "string"
        },
        {
         "name": "works_count",
         "rawType": "int64",
         "type": "integer"
        },
        {
         "name": "cited_by_count",
         "rawType": "int64",
         "type": "integer"
        },
        {
         "name": "x_concepts",
         "rawType": "object",
         "type": "unknown"
        },
        {
         "name": "counts_by_year",
         "rawType": "object",
         "type": "unknown"
        },
        {
         "name": "works_api_url",
         "rawType": "object",
         "type": "string"
        },
        {
         "name": "strip_display_name",
         "rawType": "object",
         "type": "string"
        },
        {
         "name": "predicted_gender",
         "rawType": "object",
         "type": "unknown"
        }
       ],
       "conversionMethod": "pd.DataFrame",
       "ref": "dc197b1b-72c5-4777-9e91-db8fb9b078f0",
       "rows": [
        [
         "0",
         "https://openalex.org/A5092356489",
         "Resty Fastabikul Khaerat",
         "2",
         "1",
         "['Humanities', 'Gynecology', 'Medicine', 'Forestry', 'Physics', 'Philosophy', 'Art', 'Geography']",
         "[{'year': 2024, 'works_count': 0, 'cited_by_count': 1}, {'year': 2023, 'works_count': 2, 'cited_by_count': 0}]",
         "https://api.openalex.org/works?filter=author.id:A5092356489",
         "Resty Fastabikul Khaerat",
         "Male"
        ],
        [
         "2",
         "https://openalex.org/A5114128731",
         "Xinshun Li",
         "2",
         "0",
         "['Agronomy', 'Pyrolysis', 'Chemical engineering', 'Biochemistry', 'Biochar', 'Quantum mechanics', 'Photocatalysis', 'Biology', 'Physics', 'Engineering', 'Ball mill', 'Physical chemistry', 'Adsorption', 'Composite material', 'Catalysis', 'Organic chemistry', 'Inorganic chemistry', 'Aqueous solution', 'Chemistry', 'Metallurgy', 'Materials science', 'Waste management', 'Methylene blue', 'Straw', 'Pulp and paper industry']",
         "[{'year': 2024, 'works_count': 2, 'cited_by_count': 0}]",
         "https://api.openalex.org/works?filter=author.id:A5114128731",
         "Xinshun Li",
         "Male"
        ],
        [
         "8",
         "https://openalex.org/A5004616759",
         "堀越さな恵",
         "1",
         "0",
         "['Computer science']",
         "[{'year': 2013, 'works_count': 1, 'cited_by_count': 0}]",
         "https://api.openalex.org/works?filter=author.id:A5004616759",
         "堀越さな恵",
         "Female"
        ],
        [
         "9",
         "https://openalex.org/A5068802092",
         "Debbie Northin",
         "1",
         "3",
         "['Physical therapy', 'Neurosurgery', 'Psychology', 'Social work', 'Political science', 'Social science', 'Economic growth', 'Medicine', 'Biology', 'Environmental health', 'Occupational therapy', 'Agency (philosophy)', 'Epistemology', 'Geomorphology', 'Psychiatry', 'Radiology', 'Geology', 'Economy', 'Philosophy', 'Surgery', 'Sociology', 'Business', 'Demography', 'Paleontology', 'Nursing']",
         "[]",
         "https://api.openalex.org/works?filter=author.id:A5068802092",
         "Debbie Northin",
         "Female"
        ],
        [
         "10",
         "https://openalex.org/A5095940583",
         "Ambrish",
         "1",
         "4",
         "['Structural geology', 'Geochemistry', 'Ecology', 'Environmental science', 'Quantum mechanics', 'Wetland', 'Medicine', 'Hydrology (agriculture)', 'Biology', 'Intensity (physics)', 'History', 'Physical geography', 'Optics', 'Physics', 'Geology', 'Engineering', 'Pathology', 'Paleontology', 'Metropolitan area', 'Seismology', 'Archaeology', 'Geotechnical engineering', 'Waterlogging (archaeology)', 'Geography', 'Water resource management']",
         "[{'year': 2025, 'works_count': 0, 'cited_by_count': 4}, {'year': 2024, 'works_count': 1, 'cited_by_count': 0}]",
         "https://api.openalex.org/works?filter=author.id:A5095940583",
         "Ambrish",
         "Male"
        ],
        [
         "11",
         "https://openalex.org/A5058644277",
         "María Olagüe Julián",
         "1",
         "0",
         "['Geometry', 'Humanities', 'Mathematics', 'Computer science', 'Exportation', 'Philosophy', 'Art', 'Artificial intelligence']",
         "[{'year': 2015, 'works_count': 1, 'cited_by_count': 0}]",
         "https://api.openalex.org/works?filter=author.id:A5058644277",
         "María Olagüe Julián",
         "Female"
        ],
        [
         "12",
         "https://openalex.org/A5111294908",
         "Antoine Veillette",
         "1",
         "0",
         "['Computer vision', 'Computer science', 'Medicine', 'Optics', 'Physics', 'Internal medicine', 'Balloon', 'Surgery', 'Artificial intelligence', 'Cardiology', 'Contrast (vision)']",
         "[{'year': 2024, 'works_count': 1, 'cited_by_count': 0}]",
         "https://api.openalex.org/works?filter=author.id:A5111294908",
         "Antoine Veillette",
         "Male"
        ],
        [
         "13",
         "https://openalex.org/A5084378526",
         "Deepak Chowdhury",
         "11",
         "65",
         "['Quantum mechanics', 'Physics', 'Organic chemistry', 'Chemistry', 'Materials science', 'Optics', 'Nuclear magnetic resonance', 'Physical chemistry', 'Composite material', 'Metallurgy', 'Polymer', 'Photochemistry', 'Fluorescence', 'Chemical engineering', 'Engineering', 'Biology', 'Ion', 'Electrode', 'Linguistics', 'Biochemistry', 'Stereochemistry', 'Literature', 'Philosophy', 'Art', 'Metal ions in aqueous solution']",
         "[{'year': 2025, 'works_count': 1, 'cited_by_count': 13}, {'year': 2024, 'works_count': 7, 'cited_by_count': 37}, {'year': 2023, 'works_count': 1, 'cited_by_count': 14}, {'year': 2022, 'works_count': 2, 'cited_by_count': 1}]",
         "https://api.openalex.org/works?filter=author.id:A5084378526",
         "Deepak Chowdhury",
         "Male"
        ],
        [
         "16",
         "https://openalex.org/A5002771042",
         "Shou‐Guo Chen",
         "1",
         "4",
         "['Caspase 3', 'Mitochondrion', 'Cytochrome c', 'Cell cycle', 'Programmed cell death', 'DNA fragmentation', 'Genetics', 'Biochemistry', 'Cell growth', 'Medicine', 'Biology', 'Cell biology', 'Gene', 'Cancer', 'Internal medicine', 'Biotechnology', 'Molecular biology', 'Chemistry', 'Apoptosis', 'In vivo', 'Cancer research', 'Cell', 'Oncogene']",
         "[{'year': 2023, 'works_count': 0, 'cited_by_count': 1}, {'year': 2022, 'works_count': 0, 'cited_by_count': 1}, {'year': 2020, 'works_count': 0, 'cited_by_count': 2}, {'year': 2018, 'works_count': 1, 'cited_by_count': 0}]",
         "https://api.openalex.org/works?filter=author.id:A5002771042",
         "Shou‐Guo Chen",
         "Male"
        ],
        [
         "20",
         "https://openalex.org/A5065525730",
         "王國敏",
         "1",
         "0",
         "['Political science', 'Ecology', 'Consumption (sociology)', 'Market economy', 'Social science', 'Urbanization', 'Industrialisation', 'Development economics', 'Economic growth', 'Medicine', 'Biology', 'History', 'Aesthetics', 'Agriculture', 'Geology', 'Rural area', 'Philosophy', 'Art', 'Pathology', 'Sociology', 'Business', 'Paleontology', 'Economics', 'Archaeology', 'Rural settlement']",
         "[]",
         "https://api.openalex.org/works?filter=author.id:A5065525730",
         "王國敏",
         "Unknown"
        ],
        [
         "21",
         "https://openalex.org/A5051282669",
         "صانعی نژاد",
         "1",
         "0",
         "['Astronomy', 'Direct-conversion receiver', 'Computer science', 'Laser Doppler velocimetry', 'Quantum mechanics', 'Medicine', 'Telecommunications', 'Detector', 'Electrical engineering', 'Optics', 'Physics', 'Internal medicine', 'Radiology', 'Engineering', 'Blood flow', 'Cardiology', 'Interferometry', 'Homodyne detection']",
         "[{'year': 2020, 'works_count': 1, 'cited_by_count': 0}]",
         "https://api.openalex.org/works?filter=author.id:A5051282669",
         "صانعی نژاد",
         "Unknown"
        ],
        [
         "22",
         "https://openalex.org/A5058813694",
         "杜峻峰",
         "1",
         "0",
         "['Political science', 'Chemistry']",
         "[{'year': 2013, 'works_count': 1, 'cited_by_count': 0}]",
         "https://api.openalex.org/works?filter=author.id:A5058813694",
         "杜峻峰",
         "Unknown"
        ],
        [
         "23",
         "https://openalex.org/A5098133485",
         "David Florido del Corra",
         "1",
         "0",
         "['Humanities', 'Philosophy', 'Art']",
         "[{'year': 2021, 'works_count': 1, 'cited_by_count': 0}]",
         "https://api.openalex.org/works?filter=author.id:A5098133485",
         "David Florido del Corra",
         "Male"
        ],
        [
         "25",
         "https://openalex.org/A5058743877",
         "Ramli Hatma",
         "3",
         "0",
         "['Finance', 'Medicine', 'Internal medicine', 'Pathology', 'Business', 'Economics', 'Infectious disease (medical specialty)', 'Disease', 'Coronavirus disease 2019 (COVID-19)', 'Computer science', 'Mechanical engineering', 'Biology', 'Pandemic', 'History', 'Engineering', 'Philosophy', 'Archaeology', 'Metallurgy', 'Materials science', 'Stock exchange', 'Stock (firearms)', 'Geography', 'Demographic economics', 'Islam', 'Petrology']",
         "[{'year': 2024, 'works_count': 1, 'cited_by_count': 0}, {'year': 2022, 'works_count': 1, 'cited_by_count': 0}, {'year': 2021, 'works_count': 1, 'cited_by_count': 0}]",
         "https://api.openalex.org/works?filter=author.id:A5058743877",
         "Ramli Hatma",
         "Male"
        ],
        [
         "26",
         "https://openalex.org/A5045764053",
         "Yong Concepción Álvarez",
         "2",
         "0",
         "['Psychology', 'Political science', 'Pedagogy', 'Sociology', 'Economics', 'Law', 'Ecology', 'Mathematics', 'Environmental science', 'Computer science', 'Environmental education', 'Curriculum', 'Economic growth', 'Engineering ethics', 'Quantum mechanics', 'Environmental quality', 'Biology', 'Environmental planning', 'Epistemology', 'Physics', 'Engineering', 'Philosophy', 'Mathematics education', 'Geography', 'Management science']",
         "[{'year': 2012, 'works_count': 2, 'cited_by_count': 0}]",
         "https://api.openalex.org/works?filter=author.id:A5045764053",
         "Yong Concepción Álvarez",
         "Male"
        ],
        [
         "27",
         "https://openalex.org/A5077260874",
         "Sultan Mohamed Al Mandhari",
         "1",
         "1",
         "['Finance', 'Project management', 'Work (physics)', 'Operations management', 'Electronic engineering', 'Port (circuit theory)', 'Computer science', 'Linguistics', 'Statement of work', 'Quantum mechanics', 'Structural engineering', 'Mechanical engineering', 'History', 'Thermodynamics', 'Electrical engineering', 'Physics', 'Engineering', 'World Wide Web', 'Philosophy', 'Business', 'Payment', 'Civil engineering', 'Physical chemistry', 'Embedded system', 'Pier']",
         "[{'year': 2022, 'works_count': 0, 'cited_by_count': 1}, {'year': 2021, 'works_count': 1, 'cited_by_count': 0}]",
         "https://api.openalex.org/works?filter=author.id:A5077260874",
         "Sultan Mohamed Al Mandhari",
         "Male"
        ],
        [
         "28",
         "https://openalex.org/A5023022715",
         "Maritza Zulema Yamberla Maigua",
         "1",
         "0",
         "['Political science']",
         "[{'year': 2016, 'works_count': 1, 'cited_by_count': 0}]",
         "https://api.openalex.org/works?filter=author.id:A5023022715",
         "Maritza Zulema Yamberla Maigua",
         "Female"
        ],
        [
         "30",
         "https://openalex.org/A5071647564",
         "Raf Clark",
         "1",
         "0",
         "['Biophysics', 'Psychology', 'Ecology', 'Pedagogy', 'Acoustics', 'Recombinant DNA', 'Genetics', 'Biochemistry', 'Cell culture', 'Biology', 'Zoology', 'Cell biology', 'Gene', 'Oceanography', 'Physics', 'Geology', 'Sociology', 'Dynamics (music)', 'Paleontology', 'Nanotechnology', 'Chemistry', 'Materials science', 'In vitro', 'Morphology (biology)', 'Cell']",
         "[]",
         "https://api.openalex.org/works?filter=author.id:A5071647564",
         "Raf Clark",
         "Male"
        ],
        [
         "34",
         "https://openalex.org/A5067279647",
         "田上英明",
         "2",
         "0",
         "['Computer science', 'Geology']",
         "[{'year': 2020, 'works_count': 1, 'cited_by_count': 0}, {'year': 2015, 'works_count': 1, 'cited_by_count': 0}]",
         "https://api.openalex.org/works?filter=author.id:A5067279647",
         "田上英明",
         "Male"
        ],
        [
         "35",
         "https://openalex.org/A5113332222",
         "Qulin Shen",
         "1",
         "0",
         "['Computer vision', 'Computer science', 'Genetics', 'Drone', 'Botany', 'Biology', 'Artificial intelligence']",
         "[{'year': 2024, 'works_count': 1, 'cited_by_count': 0}]",
         "https://api.openalex.org/works?filter=author.id:A5113332222",
         "Qulin Shen",
         "Unknown"
        ],
        [
         "36",
         "https://openalex.org/A5068467994",
         "Tashi Tsering Josayma",
         "2",
         "3",
         "['Biology', 'History', 'Psychology', 'Political science', 'Ecology', 'Mathematics', 'Computer science', 'Linguistics', 'Genealogy', 'Peat', 'Evolutionary biology', 'Statistics', 'Bog', 'Literature', 'Variety (cybernetics)', 'Philosophy', 'Art', 'Artificial intelligence', 'Archaeology', 'Etymology', 'Law', 'Geography', 'Terminology', 'Daughter']",
         "[{'year': 2021, 'works_count': 1, 'cited_by_count': 0}, {'year': 2013, 'works_count': 0, 'cited_by_count': 1}, {'year': 2012, 'works_count': 0, 'cited_by_count': 1}]",
         "https://api.openalex.org/works?filter=author.id:A5068467994",
         "Tashi Tsering Josayma",
         "Male"
        ],
        [
         "37",
         "https://openalex.org/A5100940611",
         "Mingsheng Jiang",
         "35",
         "167",
         "['Biology', 'Genetics', 'Chemistry', 'Medicine', 'Biochemistry', 'Cell biology', 'Internal medicine', 'Gene', 'Endocrinology', 'Anatomy', 'Organic chemistry', 'Skeletal muscle']",
         "[{'year': 2025, 'works_count': 1, 'cited_by_count': 25}, {'year': 2024, 'works_count': 1, 'cited_by_count': 85}, {'year': 2023, 'works_count': 11, 'cited_by_count': 95}, {'year': 2022, 'works_count': 6, 'cited_by_count': 39}, {'year': 2021, 'works_count': 5, 'cited_by_count': 13}, {'year': 2020, 'works_count': 5, 'cited_by_count': 8}, {'year': 2019, 'works_count': 1, 'cited_by_count': 1}, {'year': 2018, 'works_count': 0, 'cited_by_count': 1}, {'year': 2017, 'works_count': 0, 'cited_by_count': 4}, {'year': 2016, 'works_count': 2, 'cited_by_count': 0}, {'year': 2014, 'works_count': 1, 'cited_by_count': 0}]",
         "https://api.openalex.org/works?filter=author.id:A5100940611",
         "Mingsheng Jiang",
         "Male"
        ],
        [
         "38",
         "https://openalex.org/A5025465429",
         "长心宽",
         "1",
         "0",
         "['Computer science']",
         "[{'year': 2013, 'works_count': 1, 'cited_by_count': 0}]",
         "https://api.openalex.org/works?filter=author.id:A5025465429",
         "长心宽",
         "Unknown"
        ],
        [
         "39",
         "https://openalex.org/A5114064531",
         "Annelise Meis",
         "2",
         "2",
         "['Humanities', 'Philosophy', 'Art']",
         "[{'year': 2023, 'works_count': 2, 'cited_by_count': 2}]",
         "https://api.openalex.org/works?filter=author.id:A5114064531",
         "Annelise Meis",
         "Female"
        ],
        [
         "40",
         "https://openalex.org/A5058339173",
         "Belgacem Belarbi",
         "1",
         "1",
         "['Humanities', 'Philosophy', 'Art']",
         "[{'year': 2016, 'works_count': 0, 'cited_by_count': 1}]",
         "https://api.openalex.org/works?filter=author.id:A5058339173",
         "Belgacem Belarbi",
         "Male"
        ],
        [
         "41",
         "https://openalex.org/A5003285321",
         "Лупал Николай Васильевич",
         "9",
         "0",
         "['Computer science', 'Business', 'Computer network', 'Mathematics', 'Telecommunications', 'Mechanical engineering', 'Statistics', 'Operating system', 'Advertising', 'Engineering', 'Blocking (statistics)', 'Section (typography)', 'Structural engineering', 'Biology', 'Geomorphology', 'Automation', 'Geology', 'Paleontology', 'Artificial intelligence', 'Economics', 'Management', 'Reliability engineering', 'Control (management)', 'Interlocking', 'Head (geology)']",
         "[{'year': 2017, 'works_count': 4, 'cited_by_count': 0}, {'year': 2016, 'works_count': 3, 'cited_by_count': 0}, {'year': 2015, 'works_count': 2, 'cited_by_count': 0}]",
         "https://api.openalex.org/works?filter=author.id:A5003285321",
         "Лупал Николай Васильевич",
         "Male"
        ],
        [
         "42",
         "https://openalex.org/A5058630772",
         "Catherine Mela",
         "1",
         "1",
         "['Psychology', 'Neuroplasticity', 'Clinical psychology', 'Medicine', 'Biology', 'Psychiatry', 'Internal medicine', 'Endocrinology', 'Neuroscience', 'Cognition', 'Psychotherapist', 'Chronic stress', 'Prefrontal cortex']",
         "[{'year': 2020, 'works_count': 0, 'cited_by_count': 1}, {'year': 2017, 'works_count': 1, 'cited_by_count': 0}]",
         "https://api.openalex.org/works?filter=author.id:A5058630772",
         "Catherine Mela",
         "Female"
        ],
        [
         "43",
         "https://openalex.org/A5108326794",
         "Nurhidayah Amir",
         "1",
         "0",
         "['Psychology', 'Observational study', 'Psychological intervention', 'Mathematics', 'Descriptive statistics', 'Clinical psychology', 'Medicine', 'Social psychology', 'Biology', 'History', 'Environmental health', 'Statistics', 'Aesthetics', 'Self-efficacy', 'Psychiatry', 'Internal medicine', 'Geology', 'Human physical appearance', 'Developmental psychology', 'Philosophy', 'Art', 'Pathology', 'Paleontology', 'Nursing', 'Human factors and ergonomics']",
         "[{'year': 2024, 'works_count': 1, 'cited_by_count': 0}]",
         "https://api.openalex.org/works?filter=author.id:A5108326794",
         "Nurhidayah Amir",
         "Female"
        ],
        [
         "44",
         "https://openalex.org/A5109042704",
         "Hironobu Ito",
         "154",
         "4569",
         "['Biology', 'Medicine', 'Psychology', 'Neuroscience', 'Anatomy', 'Internal medicine', 'Endocrinology', 'Psychiatry', 'Chemistry', 'Biochemistry', 'Cell biology', 'Central nervous system', 'Nucleus', 'Physics', 'Genetics', 'Optics', 'Botany', 'Midbrain', 'Retina', 'Pathology', 'Ophthalmology']",
         "[{'year': 2025, 'works_count': 0, 'cited_by_count': 9}, {'year': 2024, 'works_count': 0, 'cited_by_count': 82}, {'year': 2023, 'works_count': 0, 'cited_by_count': 116}, {'year': 2022, 'works_count': 0, 'cited_by_count': 170}, {'year': 2021, 'works_count': 2, 'cited_by_count': 136}, {'year': 2020, 'works_count': 3, 'cited_by_count': 232}, {'year': 2019, 'works_count': 0, 'cited_by_count': 106}, {'year': 2018, 'works_count': 0, 'cited_by_count': 107}, {'year': 2017, 'works_count': 1, 'cited_by_count': 109}, {'year': 2016, 'works_count': 0, 'cited_by_count': 129}, {'year': 2015, 'works_count': 3, 'cited_by_count': 69}, {'year': 2014, 'works_count': 0, 'cited_by_count': 77}, {'year': 2013, 'works_count': 0, 'cited_by_count': 113}, {'year': 2012, 'works_count': 1, 'cited_by_count': 124}]",
         "https://api.openalex.org/works?filter=author.id:A5109042704",
         "Hironobu Ito",
         "Male"
        ],
        [
         "46",
         "https://openalex.org/A5023929787",
         "李令军",
         "1",
         "0",
         "['Computer science']",
         "[]",
         "https://api.openalex.org/works?filter=author.id:A5023929787",
         "李令军",
         "Male"
        ],
        [
         "47",
         "https://openalex.org/A5098406416",
         "Rade Miletić",
         "1",
         "0",
         "['Humanities', 'Gynecology', 'Medicine', 'Physics', 'Philosophy', 'Art']",
         "[]",
         "https://api.openalex.org/works?filter=author.id:A5098406416",
         "Rade Miletić",
         "Male"
        ],
        [
         "48",
         "https://openalex.org/A5053628961",
         "吉田晃典",
         "1",
         "0",
         "['Computer science', 'Geography']",
         "[]",
         "https://api.openalex.org/works?filter=author.id:A5053628961",
         "吉田晃典",
         "Male"
        ],
        [
         "50",
         "https://openalex.org/A5042670331",
         "Raúl Ernesto Ramos Peralta",
         "1",
         "0",
         "['Humanities', 'Political science', 'Philosophy', 'Art']",
         "[{'year': 2012, 'works_count': 1, 'cited_by_count': 0}]",
         "https://api.openalex.org/works?filter=author.id:A5042670331",
         "Raúl Ernesto Ramos Peralta",
         "Male"
        ],
        [
         "51",
         "https://openalex.org/A5055621619",
         "Kuang-An Wan",
         "1",
         "9",
         "['Medical prescription', 'Psychology', 'Medicine', 'Biology', 'Pharmacology', 'Psychiatry', 'Internal medicine', 'Nursing', 'Intensive care medicine', 'Pediatrics', 'Emergency medicine', 'Immunology', 'Allergy', 'Family medicine', 'Anaphylaxis', 'Asthma', 'Referral', 'Emergency department']",
         "[{'year': 2024, 'works_count': 0, 'cited_by_count': 1}, {'year': 2023, 'works_count': 0, 'cited_by_count': 3}, {'year': 2022, 'works_count': 0, 'cited_by_count': 3}, {'year': 2021, 'works_count': 1, 'cited_by_count': 2}]",
         "https://api.openalex.org/works?filter=author.id:A5055621619",
         "Kuang-An Wan",
         "Male"
        ],
        [
         "52",
         "https://openalex.org/A5017698004",
         "Maria Leandra de Souza Silva",
         "1",
         "0",
         "['Humanities', 'Physics', 'Philosophy', 'Art']",
         "[{'year': 2021, 'works_count': 1, 'cited_by_count': 0}]",
         "https://api.openalex.org/works?filter=author.id:A5017698004",
         "Maria Leandra de Souza Silva",
         "Female"
        ],
        [
         "55",
         "https://openalex.org/A5008306003",
         "punit bhatia",
         "1",
         "0",
         "['Orthodontics', 'Computer science', 'Medicine', 'Dentistry', 'Dental instruments']",
         "[{'year': 2020, 'works_count': 1, 'cited_by_count': 0}]",
         "https://api.openalex.org/works?filter=author.id:A5008306003",
         "punit bhatia",
         "Male"
        ],
        [
         "56",
         "https://openalex.org/A5006464338",
         "Laura Sujo Montes",
         "2",
         "1",
         "['Psychology', 'Political science', 'Pedagogy', 'Information retrieval', 'Mathematics', 'Learning community', 'Computer science', 'Economic growth', 'Genetics', 'Knowledge management', 'Social learning', 'Biology', 'World Wide Web', 'Collaborative learning', 'Sociology', 'Mathematics education', 'Economics', 'Bookmarking', 'Law', 'Social media', 'Literacy', 'Online community']",
         "[{'year': 2019, 'works_count': 0, 'cited_by_count': 1}, {'year': 2016, 'works_count': 2, 'cited_by_count': 0}]",
         "https://api.openalex.org/works?filter=author.id:A5006464338",
         "Laura Sujo Montes",
         "Female"
        ],
        [
         "57",
         "https://openalex.org/A5090644672",
         "Zvi Rosenstock",
         "6",
         "57",
         "['Quantum mechanics', 'Physics', 'Composite material', 'Organic chemistry', 'Chemistry', 'Materials science', 'Mathematics', 'Engineering', 'Physical chemistry', 'Chemical physics', 'Metallurgy', 'Ionic bonding', 'Condensed matter physics', 'Electrical engineering', 'Ion', 'Nanotechnology', 'Oxide', 'Geometry', 'Schottky barrier', 'Electrode', 'Political science', 'Thin film', 'Monte Carlo method', 'Molecule', 'Conductor']",
         "[{'year': 2021, 'works_count': 0, 'cited_by_count': 2}, {'year': 2018, 'works_count': 0, 'cited_by_count': 1}, {'year': 2017, 'works_count': 0, 'cited_by_count': 1}, {'year': 2016, 'works_count': 0, 'cited_by_count': 4}, {'year': 2015, 'works_count': 0, 'cited_by_count': 6}, {'year': 2014, 'works_count': 0, 'cited_by_count': 4}, {'year': 2013, 'works_count': 0, 'cited_by_count': 17}, {'year': 2012, 'works_count': 0, 'cited_by_count': 5}]",
         "https://api.openalex.org/works?filter=author.id:A5090644672",
         "Zvi Rosenstock",
         "Male"
        ],
        [
         "58",
         "https://openalex.org/A5017088646",
         "Oliver Klar",
         "4",
         "7",
         "['Biology', 'Thermodynamics', 'Physics', 'Composite material', 'Materials science', 'Ecology', 'Mathematics', 'Computer science', 'Geology', 'Viscoelasticity', 'Porosity', 'Ogden', 'Applied mathematics', 'Mechanics', 'Botany', 'Quadratic programming', 'Porous medium', 'Identification (biology)', 'Mathematical optimization', 'Engineering', 'Paleontology', 'Organic chemistry', 'Chemistry', 'Geotechnical engineering', 'Metallurgy']",
         "[{'year': 2013, 'works_count': 0, 'cited_by_count': 1}]",
         "https://api.openalex.org/works?filter=author.id:A5017088646",
         "Oliver Klar",
         "Male"
        ],
        [
         "60",
         "https://openalex.org/A5019105415",
         "María Bezunartea Oroz",
         "1",
         "0",
         "['Humanities', 'Political science', 'Philosophy', 'Art']",
         "[{'year': 2015, 'works_count': 1, 'cited_by_count': 0}]",
         "https://api.openalex.org/works?filter=author.id:A5019105415",
         "María Bezunartea Oroz",
         "Female"
        ],
        [
         "61",
         "https://openalex.org/A5036883624",
         "Filip Krásný",
         "1",
         "0",
         "['Physics']",
         "[{'year': 2014, 'works_count': 1, 'cited_by_count': 0}]",
         "https://api.openalex.org/works?filter=author.id:A5036883624",
         "Filip Krásný",
         "Male"
        ],
        [
         "62",
         "https://openalex.org/A5079077044",
         "余红伟",
         "1",
         "0",
         "['Computer science']",
         "[{'year': 2013, 'works_count': 1, 'cited_by_count': 0}]",
         "https://api.openalex.org/works?filter=author.id:A5079077044",
         "余红伟",
         "Unknown"
        ],
        [
         "63",
         "https://openalex.org/A5106280672",
         "Putririani",
         "1",
         "1",
         "['Astronomy', 'Food science', 'Agricultural science', 'Environmental science', 'Agricultural economics', 'Agroforestry', 'Quantum mechanics', 'Biology', 'Palm', 'Physics', 'Economics', 'Chemistry', 'Palm oil']",
         "[{'year': 2024, 'works_count': 1, 'cited_by_count': 1}]",
         "https://api.openalex.org/works?filter=author.id:A5106280672",
         "Putririani",
         "Female"
        ],
        [
         "64",
         "https://openalex.org/A5060367678",
         "Anchin",
         "1",
         "3",
         "['Computer science', 'Genetics', 'Quantum mechanics', 'Heart rate variability', 'Medicine', 'Database', 'Cell culture', 'Blood pressure', 'Biology', 'Thermodynamics', 'Physics', 'Data mining', 'Internal medicine', 'Radiology', 'Endocrinology', 'Power (physics)', 'Cardiology', 'Battery (electricity)', 'Neuroblastoma', 'Autonomic neuropathy', 'Heart rate', 'Measure (data warehouse)', 'Electrocardiography']",
         "[{'year': 2016, 'works_count': 0, 'cited_by_count': 2}, {'year': 2013, 'works_count': 0, 'cited_by_count': 1}]",
         "https://api.openalex.org/works?filter=author.id:A5060367678",
         "Anchin",
         "Male"
        ],
        [
         "67",
         "https://openalex.org/A5102058836",
         "Brendan J. Connolly",
         "3",
         "84",
         "['Biology', 'Physics', 'Organic chemistry', 'Chemistry', 'Nuclear magnetic resonance', 'Genetics', 'Biochemistry', 'Phosphodiesterase', 'Stereochemistry', 'Medicine', 'Gene', 'Enzyme', 'Astronomy', 'Crystallography', 'Phosphorylation', 'Corrosion', 'Potency', 'Phosphodiesterase 3', 'PDE10A', 'Cell culture', 'Astrobiology', 'Microstructure', 'Activator (genetics)', 'Cell biology', 'Protein kinase A']",
         "[{'year': 2024, 'works_count': 0, 'cited_by_count': 1}, {'year': 2023, 'works_count': 0, 'cited_by_count': 4}, {'year': 2022, 'works_count': 0, 'cited_by_count': 2}, {'year': 2020, 'works_count': 0, 'cited_by_count': 3}, {'year': 2019, 'works_count': 0, 'cited_by_count': 2}, {'year': 2018, 'works_count': 0, 'cited_by_count': 5}, {'year': 2017, 'works_count': 0, 'cited_by_count': 10}, {'year': 2016, 'works_count': 0, 'cited_by_count': 3}, {'year': 2015, 'works_count': 0, 'cited_by_count': 1}, {'year': 2014, 'works_count': 0, 'cited_by_count': 6}, {'year': 2013, 'works_count': 0, 'cited_by_count': 4}, {'year': 2012, 'works_count': 0, 'cited_by_count': 2}]",
         "https://api.openalex.org/works?filter=author.id:A5102058836",
         "Brendan J Connolly",
         "Unknown"
        ],
        [
         "68",
         "https://openalex.org/A5046070551",
         "Hyuk Choe",
         "57",
         "2796",
         "['Business', 'Economics', 'Finance', 'Monetary economics', 'Financial economics', 'History', 'Archaeology', 'Geography', 'Mathematics', 'Engineering', 'Materials science', 'Mechanical engineering', 'Metallurgy', 'Stock (firearms)', 'Biology', 'Econometrics', 'Geology', 'Macroeconomics', 'Paleontology', 'Computer science', 'Context (archaeology)', 'Market liquidity', 'Physics', 'Political science', 'Microeconomics']",
         "[{'year': 2025, 'works_count': 0, 'cited_by_count': 5}, {'year': 2024, 'works_count': 0, 'cited_by_count': 79}, {'year': 2023, 'works_count': 0, 'cited_by_count': 114}, {'year': 2022, 'works_count': 0, 'cited_by_count': 68}, {'year': 2021, 'works_count': 1, 'cited_by_count': 151}, {'year': 2020, 'works_count': 1, 'cited_by_count': 118}, {'year': 2019, 'works_count': 0, 'cited_by_count': 133}, {'year': 2018, 'works_count': 0, 'cited_by_count': 153}, {'year': 2017, 'works_count': 0, 'cited_by_count': 164}, {'year': 2016, 'works_count': 0, 'cited_by_count': 191}, {'year': 2015, 'works_count': 0, 'cited_by_count': 238}, {'year': 2014, 'works_count': 2, 'cited_by_count': 217}, {'year': 2013, 'works_count': 3, 'cited_by_count': 226}, {'year': 2012, 'works_count': 6, 'cited_by_count': 254}]",
         "https://api.openalex.org/works?filter=author.id:A5046070551",
         "Hyuk Choe",
         "Female"
        ],
        [
         "69",
         "https://openalex.org/A5076367424",
         "Jitendra Kapoor",
         "4",
         "6",
         "['Quantum mechanics', 'Physics', 'Psychology', 'Mathematics', 'Computer science', 'Control theory (sociology)', 'Clinical psychology', 'Medicine', 'Boost converter', 'Biology', 'Thermodynamics', 'Epistemology', 'Electrical engineering', 'Engineering', 'Philosophy', 'Association (psychology)', 'Artificial intelligence', 'Economics', 'Power (physics)', 'Voltage', 'Management', 'Duty cycle', 'Psychotherapist', 'Control (management)', 'Geometry']",
         "[{'year': 2024, 'works_count': 0, 'cited_by_count': 1}, {'year': 2023, 'works_count': 2, 'cited_by_count': 4}, {'year': 2018, 'works_count': 0, 'cited_by_count': 1}, {'year': 2013, 'works_count': 1, 'cited_by_count': 0}, {'year': 2012, 'works_count': 1, 'cited_by_count': 0}]",
         "https://api.openalex.org/works?filter=author.id:A5076367424",
         "Jitendra Kapoor",
         "Female"
        ],
        [
         "70",
         "https://openalex.org/A5044498891",
         "菜穂子 角田",
         "2",
         "0",
         "['Computer science', 'Transport engineering', 'Engineering', 'Arrival time']",
         "[]",
         "https://api.openalex.org/works?filter=author.id:A5044498891",
         "菜穂子 角田",
         "Male"
        ],
        [
         "71",
         "https://openalex.org/A5080341877",
         "飛宇馬 栗原",
         "1",
         "0",
         "['Geography']",
         "[{'year': 2018, 'works_count': 1, 'cited_by_count': 0}]",
         "https://api.openalex.org/works?filter=author.id:A5080341877",
         "飛宇馬 栗原",
         "Female"
        ],
        [
         "75",
         "https://openalex.org/A5047342243",
         "Elizabeth Gabel",
         "6",
         "7",
         "['Food science', 'Medicine', 'Biology', 'Chemistry', 'Genetics', 'Bioburden', 'Biochemistry', 'Microbiology', 'Physics', 'Surgery', 'Immunology', 'Allergy', 'Immune system', 'Acoustics', 'Mathematics', 'Computer science', 'Structural engineering', 'Mechanical engineering', 'Cancer', 'Internal medicine', 'Geology', 'Engineering', 'Mathematical analysis', 'Philosophy', 'Immunoglobulin E']",
         "[{'year': 2025, 'works_count': 0, 'cited_by_count': 1}, {'year': 2024, 'works_count': 0, 'cited_by_count': 3}, {'year': 2023, 'works_count': 1, 'cited_by_count': 1}, {'year': 2022, 'works_count': 0, 'cited_by_count': 2}, {'year': 2020, 'works_count': 2, 'cited_by_count': 0}, {'year': 2019, 'works_count': 1, 'cited_by_count': 0}, {'year': 2018, 'works_count': 1, 'cited_by_count': 0}, {'year': 2017, 'works_count': 1, 'cited_by_count': 0}]",
         "https://api.openalex.org/works?filter=author.id:A5047342243",
         "Elizabeth Gabel",
         "Unknown"
        ]
       ],
       "shape": {
        "columns": 9,
        "rows": 71152
       }
      },
      "text/html": [
       "<div>\n",
       "<style scoped>\n",
       "    .dataframe tbody tr th:only-of-type {\n",
       "        vertical-align: middle;\n",
       "    }\n",
       "\n",
       "    .dataframe tbody tr th {\n",
       "        vertical-align: top;\n",
       "    }\n",
       "\n",
       "    .dataframe thead th {\n",
       "        text-align: right;\n",
       "    }\n",
       "</style>\n",
       "<table border=\"1\" class=\"dataframe\">\n",
       "  <thead>\n",
       "    <tr style=\"text-align: right;\">\n",
       "      <th></th>\n",
       "      <th>id</th>\n",
       "      <th>display_name</th>\n",
       "      <th>works_count</th>\n",
       "      <th>cited_by_count</th>\n",
       "      <th>x_concepts</th>\n",
       "      <th>counts_by_year</th>\n",
       "      <th>works_api_url</th>\n",
       "      <th>strip_display_name</th>\n",
       "      <th>predicted_gender</th>\n",
       "    </tr>\n",
       "  </thead>\n",
       "  <tbody>\n",
       "    <tr>\n",
       "      <th>0</th>\n",
       "      <td>https://openalex.org/A5092356489</td>\n",
       "      <td>Resty Fastabikul Khaerat</td>\n",
       "      <td>2</td>\n",
       "      <td>1</td>\n",
       "      <td>[Humanities, Gynecology, Medicine, Forestry, P...</td>\n",
       "      <td>[{'year': 2024, 'works_count': 0, 'cited_by_co...</td>\n",
       "      <td>https://api.openalex.org/works?filter=author.i...</td>\n",
       "      <td>Resty Fastabikul Khaerat</td>\n",
       "      <td>Male</td>\n",
       "    </tr>\n",
       "    <tr>\n",
       "      <th>2</th>\n",
       "      <td>https://openalex.org/A5114128731</td>\n",
       "      <td>Xinshun Li</td>\n",
       "      <td>2</td>\n",
       "      <td>0</td>\n",
       "      <td>[Agronomy, Pyrolysis, Chemical engineering, Bi...</td>\n",
       "      <td>[{'year': 2024, 'works_count': 2, 'cited_by_co...</td>\n",
       "      <td>https://api.openalex.org/works?filter=author.i...</td>\n",
       "      <td>Xinshun Li</td>\n",
       "      <td>Male</td>\n",
       "    </tr>\n",
       "    <tr>\n",
       "      <th>8</th>\n",
       "      <td>https://openalex.org/A5004616759</td>\n",
       "      <td>堀越さな恵</td>\n",
       "      <td>1</td>\n",
       "      <td>0</td>\n",
       "      <td>[Computer science]</td>\n",
       "      <td>[{'year': 2013, 'works_count': 1, 'cited_by_co...</td>\n",
       "      <td>https://api.openalex.org/works?filter=author.i...</td>\n",
       "      <td>堀越さな恵</td>\n",
       "      <td>Female</td>\n",
       "    </tr>\n",
       "    <tr>\n",
       "      <th>9</th>\n",
       "      <td>https://openalex.org/A5068802092</td>\n",
       "      <td>Debbie Northin</td>\n",
       "      <td>1</td>\n",
       "      <td>3</td>\n",
       "      <td>[Physical therapy, Neurosurgery, Psychology, S...</td>\n",
       "      <td>[]</td>\n",
       "      <td>https://api.openalex.org/works?filter=author.i...</td>\n",
       "      <td>Debbie Northin</td>\n",
       "      <td>Female</td>\n",
       "    </tr>\n",
       "    <tr>\n",
       "      <th>10</th>\n",
       "      <td>https://openalex.org/A5095940583</td>\n",
       "      <td>Ambrish</td>\n",
       "      <td>1</td>\n",
       "      <td>4</td>\n",
       "      <td>[Structural geology, Geochemistry, Ecology, En...</td>\n",
       "      <td>[{'year': 2025, 'works_count': 0, 'cited_by_co...</td>\n",
       "      <td>https://api.openalex.org/works?filter=author.i...</td>\n",
       "      <td>Ambrish</td>\n",
       "      <td>Male</td>\n",
       "    </tr>\n",
       "    <tr>\n",
       "      <th>...</th>\n",
       "      <td>...</td>\n",
       "      <td>...</td>\n",
       "      <td>...</td>\n",
       "      <td>...</td>\n",
       "      <td>...</td>\n",
       "      <td>...</td>\n",
       "      <td>...</td>\n",
       "      <td>...</td>\n",
       "      <td>...</td>\n",
       "    </tr>\n",
       "    <tr>\n",
       "      <th>99994</th>\n",
       "      <td>https://openalex.org/A5104421392</td>\n",
       "      <td>Wes Romanello</td>\n",
       "      <td>1</td>\n",
       "      <td>0</td>\n",
       "      <td>[Psychology, Genetics, Biochemistry, Medicine,...</td>\n",
       "      <td>[{'year': 2024, 'works_count': 1, 'cited_by_co...</td>\n",
       "      <td>https://api.openalex.org/works?filter=author.i...</td>\n",
       "      <td>Wes Romanello</td>\n",
       "      <td>Male</td>\n",
       "    </tr>\n",
       "    <tr>\n",
       "      <th>99995</th>\n",
       "      <td>https://openalex.org/A5084612149</td>\n",
       "      <td>Felix Valdés García</td>\n",
       "      <td>26</td>\n",
       "      <td>12</td>\n",
       "      <td>[Art, Philosophy, Humanities, Political scienc...</td>\n",
       "      <td>[{'year': 2023, 'works_count': 0, 'cited_by_co...</td>\n",
       "      <td>https://api.openalex.org/works?filter=author.i...</td>\n",
       "      <td>Felix Valdés García</td>\n",
       "      <td>Unknown</td>\n",
       "    </tr>\n",
       "    <tr>\n",
       "      <th>99996</th>\n",
       "      <td>https://openalex.org/A5052322343</td>\n",
       "      <td>أحمد محمد أحمد سلیمان</td>\n",
       "      <td>1</td>\n",
       "      <td>0</td>\n",
       "      <td>[Computer science]</td>\n",
       "      <td>[{'year': 2017, 'works_count': 1, 'cited_by_co...</td>\n",
       "      <td>https://api.openalex.org/works?filter=author.i...</td>\n",
       "      <td>أحمد محمد أحمد سلیمان</td>\n",
       "      <td>Female.</td>\n",
       "    </tr>\n",
       "    <tr>\n",
       "      <th>99997</th>\n",
       "      <td>https://openalex.org/A5018515218</td>\n",
       "      <td>Esther Eshel</td>\n",
       "      <td>78</td>\n",
       "      <td>278</td>\n",
       "      <td>[History, Philosophy, Art, Geography, Archaeol...</td>\n",
       "      <td>[{'year': 2025, 'works_count': 1, 'cited_by_co...</td>\n",
       "      <td>https://api.openalex.org/works?filter=author.i...</td>\n",
       "      <td>Esther Eshel</td>\n",
       "      <td>NaN</td>\n",
       "    </tr>\n",
       "    <tr>\n",
       "      <th>99998</th>\n",
       "      <td>https://openalex.org/A5090983522</td>\n",
       "      <td>Phebe M. Towle</td>\n",
       "      <td>6</td>\n",
       "      <td>10</td>\n",
       "      <td>[Biology, Botany, Geography, Ecology, Moss]</td>\n",
       "      <td>[]</td>\n",
       "      <td>https://api.openalex.org/works?filter=author.i...</td>\n",
       "      <td>Phebe M Towle</td>\n",
       "      <td>NaN</td>\n",
       "    </tr>\n",
       "  </tbody>\n",
       "</table>\n",
       "<p>71152 rows × 9 columns</p>\n",
       "</div>"
      ],
      "text/plain": [
       "                                     id              display_name  \\\n",
       "0      https://openalex.org/A5092356489  Resty Fastabikul Khaerat   \n",
       "2      https://openalex.org/A5114128731                Xinshun Li   \n",
       "8      https://openalex.org/A5004616759                     堀越さな恵   \n",
       "9      https://openalex.org/A5068802092            Debbie Northin   \n",
       "10     https://openalex.org/A5095940583                   Ambrish   \n",
       "...                                 ...                       ...   \n",
       "99994  https://openalex.org/A5104421392             Wes Romanello   \n",
       "99995  https://openalex.org/A5084612149       Felix Valdés García   \n",
       "99996  https://openalex.org/A5052322343     أحمد محمد أحمد سلیمان   \n",
       "99997  https://openalex.org/A5018515218              Esther Eshel   \n",
       "99998  https://openalex.org/A5090983522            Phebe M. Towle   \n",
       "\n",
       "       works_count  cited_by_count  \\\n",
       "0                2               1   \n",
       "2                2               0   \n",
       "8                1               0   \n",
       "9                1               3   \n",
       "10               1               4   \n",
       "...            ...             ...   \n",
       "99994            1               0   \n",
       "99995           26              12   \n",
       "99996            1               0   \n",
       "99997           78             278   \n",
       "99998            6              10   \n",
       "\n",
       "                                              x_concepts  \\\n",
       "0      [Humanities, Gynecology, Medicine, Forestry, P...   \n",
       "2      [Agronomy, Pyrolysis, Chemical engineering, Bi...   \n",
       "8                                     [Computer science]   \n",
       "9      [Physical therapy, Neurosurgery, Psychology, S...   \n",
       "10     [Structural geology, Geochemistry, Ecology, En...   \n",
       "...                                                  ...   \n",
       "99994  [Psychology, Genetics, Biochemistry, Medicine,...   \n",
       "99995  [Art, Philosophy, Humanities, Political scienc...   \n",
       "99996                                 [Computer science]   \n",
       "99997  [History, Philosophy, Art, Geography, Archaeol...   \n",
       "99998        [Biology, Botany, Geography, Ecology, Moss]   \n",
       "\n",
       "                                          counts_by_year  \\\n",
       "0      [{'year': 2024, 'works_count': 0, 'cited_by_co...   \n",
       "2      [{'year': 2024, 'works_count': 2, 'cited_by_co...   \n",
       "8      [{'year': 2013, 'works_count': 1, 'cited_by_co...   \n",
       "9                                                     []   \n",
       "10     [{'year': 2025, 'works_count': 0, 'cited_by_co...   \n",
       "...                                                  ...   \n",
       "99994  [{'year': 2024, 'works_count': 1, 'cited_by_co...   \n",
       "99995  [{'year': 2023, 'works_count': 0, 'cited_by_co...   \n",
       "99996  [{'year': 2017, 'works_count': 1, 'cited_by_co...   \n",
       "99997  [{'year': 2025, 'works_count': 1, 'cited_by_co...   \n",
       "99998                                                 []   \n",
       "\n",
       "                                           works_api_url  \\\n",
       "0      https://api.openalex.org/works?filter=author.i...   \n",
       "2      https://api.openalex.org/works?filter=author.i...   \n",
       "8      https://api.openalex.org/works?filter=author.i...   \n",
       "9      https://api.openalex.org/works?filter=author.i...   \n",
       "10     https://api.openalex.org/works?filter=author.i...   \n",
       "...                                                  ...   \n",
       "99994  https://api.openalex.org/works?filter=author.i...   \n",
       "99995  https://api.openalex.org/works?filter=author.i...   \n",
       "99996  https://api.openalex.org/works?filter=author.i...   \n",
       "99997  https://api.openalex.org/works?filter=author.i...   \n",
       "99998  https://api.openalex.org/works?filter=author.i...   \n",
       "\n",
       "             strip_display_name predicted_gender  \n",
       "0      Resty Fastabikul Khaerat             Male  \n",
       "2                    Xinshun Li             Male  \n",
       "8                         堀越さな恵           Female  \n",
       "9                Debbie Northin           Female  \n",
       "10                      Ambrish             Male  \n",
       "...                         ...              ...  \n",
       "99994             Wes Romanello             Male  \n",
       "99995       Felix Valdés García          Unknown  \n",
       "99996     أحمد محمد أحمد سلیمان          Female.  \n",
       "99997              Esther Eshel              NaN  \n",
       "99998             Phebe M Towle              NaN  \n",
       "\n",
       "[71152 rows x 9 columns]"
      ]
     },
     "execution_count": 29,
     "metadata": {},
     "output_type": "execute_result"
    }
   ],
   "source": [
    "filtered_df['predicted_gender'] = filtered_df['strip_display_name'].map(\n",
    "    name_to_gender)\n",
    "filtered_df"
   ]
  },
  {
   "cell_type": "code",
   "execution_count": 31,
   "metadata": {},
   "outputs": [
    {
     "data": {
      "application/vnd.microsoft.datawrangler.viewer.v0+json": {
       "columns": [
        {
         "name": "index",
         "rawType": "int64",
         "type": "integer"
        },
        {
         "name": "id",
         "rawType": "object",
         "type": "string"
        },
        {
         "name": "predicted_gender",
         "rawType": "object",
         "type": "unknown"
        }
       ],
       "conversionMethod": "pd.DataFrame",
       "ref": "88e89a61-acfa-434d-a1da-7367b35a964d",
       "rows": [
        [
         "0",
         "https://openalex.org/A5092356489",
         "Male"
        ],
        [
         "2",
         "https://openalex.org/A5114128731",
         "Male"
        ],
        [
         "8",
         "https://openalex.org/A5004616759",
         "Female"
        ],
        [
         "9",
         "https://openalex.org/A5068802092",
         "Female"
        ],
        [
         "10",
         "https://openalex.org/A5095940583",
         "Male"
        ],
        [
         "11",
         "https://openalex.org/A5058644277",
         "Female"
        ],
        [
         "12",
         "https://openalex.org/A5111294908",
         "Male"
        ],
        [
         "13",
         "https://openalex.org/A5084378526",
         "Male"
        ],
        [
         "16",
         "https://openalex.org/A5002771042",
         "Male"
        ],
        [
         "23",
         "https://openalex.org/A5098133485",
         "Male"
        ],
        [
         "25",
         "https://openalex.org/A5058743877",
         "Male"
        ],
        [
         "26",
         "https://openalex.org/A5045764053",
         "Male"
        ],
        [
         "27",
         "https://openalex.org/A5077260874",
         "Male"
        ],
        [
         "28",
         "https://openalex.org/A5023022715",
         "Female"
        ],
        [
         "30",
         "https://openalex.org/A5071647564",
         "Male"
        ],
        [
         "34",
         "https://openalex.org/A5067279647",
         "Male"
        ],
        [
         "36",
         "https://openalex.org/A5068467994",
         "Male"
        ],
        [
         "37",
         "https://openalex.org/A5100940611",
         "Male"
        ],
        [
         "39",
         "https://openalex.org/A5114064531",
         "Female"
        ],
        [
         "40",
         "https://openalex.org/A5058339173",
         "Male"
        ],
        [
         "41",
         "https://openalex.org/A5003285321",
         "Male"
        ],
        [
         "42",
         "https://openalex.org/A5058630772",
         "Female"
        ],
        [
         "43",
         "https://openalex.org/A5108326794",
         "Female"
        ],
        [
         "44",
         "https://openalex.org/A5109042704",
         "Male"
        ],
        [
         "46",
         "https://openalex.org/A5023929787",
         "Male"
        ],
        [
         "47",
         "https://openalex.org/A5098406416",
         "Male"
        ],
        [
         "48",
         "https://openalex.org/A5053628961",
         "Male"
        ],
        [
         "50",
         "https://openalex.org/A5042670331",
         "Male"
        ],
        [
         "51",
         "https://openalex.org/A5055621619",
         "Male"
        ],
        [
         "52",
         "https://openalex.org/A5017698004",
         "Female"
        ],
        [
         "55",
         "https://openalex.org/A5008306003",
         "Male"
        ],
        [
         "56",
         "https://openalex.org/A5006464338",
         "Female"
        ],
        [
         "57",
         "https://openalex.org/A5090644672",
         "Male"
        ],
        [
         "58",
         "https://openalex.org/A5017088646",
         "Male"
        ],
        [
         "60",
         "https://openalex.org/A5019105415",
         "Female"
        ],
        [
         "61",
         "https://openalex.org/A5036883624",
         "Male"
        ],
        [
         "63",
         "https://openalex.org/A5106280672",
         "Female"
        ],
        [
         "64",
         "https://openalex.org/A5060367678",
         "Male"
        ],
        [
         "68",
         "https://openalex.org/A5046070551",
         "Female"
        ],
        [
         "69",
         "https://openalex.org/A5076367424",
         "Female"
        ],
        [
         "70",
         "https://openalex.org/A5044498891",
         "Male"
        ],
        [
         "71",
         "https://openalex.org/A5080341877",
         "Female"
        ],
        [
         "76",
         "https://openalex.org/A5059864725",
         "Female"
        ],
        [
         "77",
         "https://openalex.org/A5011257688",
         "Male"
        ],
        [
         "78",
         "https://openalex.org/A5019970697",
         "Male"
        ],
        [
         "79",
         "https://openalex.org/A5073003028",
         "Female"
        ],
        [
         "80",
         "https://openalex.org/A5015775987",
         "Male"
        ],
        [
         "81",
         "https://openalex.org/A5016597359",
         "Female"
        ],
        [
         "82",
         "https://openalex.org/A5097891750",
         "Male"
        ],
        [
         "83",
         "https://openalex.org/A5035176777",
         "Male"
        ]
       ],
       "shape": {
        "columns": 2,
        "rows": 67497
       }
      },
      "text/html": [
       "<div>\n",
       "<style scoped>\n",
       "    .dataframe tbody tr th:only-of-type {\n",
       "        vertical-align: middle;\n",
       "    }\n",
       "\n",
       "    .dataframe tbody tr th {\n",
       "        vertical-align: top;\n",
       "    }\n",
       "\n",
       "    .dataframe thead th {\n",
       "        text-align: right;\n",
       "    }\n",
       "</style>\n",
       "<table border=\"1\" class=\"dataframe\">\n",
       "  <thead>\n",
       "    <tr style=\"text-align: right;\">\n",
       "      <th></th>\n",
       "      <th>id</th>\n",
       "      <th>predicted_gender</th>\n",
       "    </tr>\n",
       "  </thead>\n",
       "  <tbody>\n",
       "    <tr>\n",
       "      <th>0</th>\n",
       "      <td>https://openalex.org/A5092356489</td>\n",
       "      <td>Male</td>\n",
       "    </tr>\n",
       "    <tr>\n",
       "      <th>2</th>\n",
       "      <td>https://openalex.org/A5114128731</td>\n",
       "      <td>Male</td>\n",
       "    </tr>\n",
       "    <tr>\n",
       "      <th>8</th>\n",
       "      <td>https://openalex.org/A5004616759</td>\n",
       "      <td>Female</td>\n",
       "    </tr>\n",
       "    <tr>\n",
       "      <th>9</th>\n",
       "      <td>https://openalex.org/A5068802092</td>\n",
       "      <td>Female</td>\n",
       "    </tr>\n",
       "    <tr>\n",
       "      <th>10</th>\n",
       "      <td>https://openalex.org/A5095940583</td>\n",
       "      <td>Male</td>\n",
       "    </tr>\n",
       "    <tr>\n",
       "      <th>...</th>\n",
       "      <td>...</td>\n",
       "      <td>...</td>\n",
       "    </tr>\n",
       "    <tr>\n",
       "      <th>99993</th>\n",
       "      <td>https://openalex.org/A5025150732</td>\n",
       "      <td>Male</td>\n",
       "    </tr>\n",
       "    <tr>\n",
       "      <th>99994</th>\n",
       "      <td>https://openalex.org/A5104421392</td>\n",
       "      <td>Male</td>\n",
       "    </tr>\n",
       "    <tr>\n",
       "      <th>99996</th>\n",
       "      <td>https://openalex.org/A5052322343</td>\n",
       "      <td>Female.</td>\n",
       "    </tr>\n",
       "    <tr>\n",
       "      <th>99997</th>\n",
       "      <td>https://openalex.org/A5018515218</td>\n",
       "      <td>NaN</td>\n",
       "    </tr>\n",
       "    <tr>\n",
       "      <th>99998</th>\n",
       "      <td>https://openalex.org/A5090983522</td>\n",
       "      <td>NaN</td>\n",
       "    </tr>\n",
       "  </tbody>\n",
       "</table>\n",
       "<p>67497 rows × 2 columns</p>\n",
       "</div>"
      ],
      "text/plain": [
       "                                     id predicted_gender\n",
       "0      https://openalex.org/A5092356489             Male\n",
       "2      https://openalex.org/A5114128731             Male\n",
       "8      https://openalex.org/A5004616759           Female\n",
       "9      https://openalex.org/A5068802092           Female\n",
       "10     https://openalex.org/A5095940583             Male\n",
       "...                                 ...              ...\n",
       "99993  https://openalex.org/A5025150732             Male\n",
       "99994  https://openalex.org/A5104421392             Male\n",
       "99996  https://openalex.org/A5052322343          Female.\n",
       "99997  https://openalex.org/A5018515218              NaN\n",
       "99998  https://openalex.org/A5090983522              NaN\n",
       "\n",
       "[67497 rows x 2 columns]"
      ]
     },
     "execution_count": 31,
     "metadata": {},
     "output_type": "execute_result"
    }
   ],
   "source": [
    "gender_df = filtered_df[filtered_df['predicted_gender']\n",
    "                        != 'Unknown'][['id', 'predicted_gender']]\n",
    "gender_df"
   ]
  },
  {
   "cell_type": "code",
   "execution_count": 41,
   "metadata": {},
   "outputs": [],
   "source": [
    "cited_by_count_df = df[['id', 'cited_by_count']]\n",
    "works_api_url_df = df[['id', 'works_api_url']]\n",
    "display_name_df = df[['id', 'display_name']]"
   ]
  },
  {
   "cell_type": "code",
   "execution_count": 43,
   "metadata": {},
   "outputs": [],
   "source": [
    "from re import X\n",
    "\n",
    "dfs = [counts_by_year_df, x_concepts_df, gender_df,\n",
    "       cited_by_count_df, works_api_url_df, display_name_df]\n",
    "for _ in dfs:\n",
    "    if not os.path.exists(f\"data/{_.columns[1]}.jsonl\"):\n",
    "        _.to_json(f\"data/{_.columns[1]}.jsonl\", orient='records', lines=True)"
   ]
  },
  {
   "cell_type": "code",
   "execution_count": null,
   "metadata": {},
   "outputs": [],
   "source": [
    "import json\n",
    "\n",
    "\n",
    "def convert_json_to_jsonl(input_file, output_file):\n",
    "    # Open the JSON file and load the data\n",
    "    with open(input_file, 'r') as f:\n",
    "        data = json.load(f)\n",
    "\n",
    "    # Ensure the data is a list of dictionaries\n",
    "    if isinstance(data, dict):\n",
    "        data = [data]\n",
    "\n",
    "    # Open the output file in write mode\n",
    "    with open(output_file, 'w') as f_out:\n",
    "        for entry in data:\n",
    "            # Convert each dictionary to a JSON string and write it to the file\n",
    "            json_line = json.dumps(entry)\n",
    "            f_out.write(json_line + '\\n')\n",
    "\n",
    "\n",
    "# Usage\n",
    "input_json_file = 'data.json'\n",
    "output_jsonl_file = 'data.jsonl'\n",
    "convert_json_to_jsonl(input_json_file, output_jsonl_file)"
   ]
  }
 ],
 "metadata": {
  "kernelspec": {
   "display_name": "base",
   "language": "python",
   "name": "python3"
  },
  "language_info": {
   "codemirror_mode": {
    "name": "ipython",
    "version": 3
   },
   "file_extension": ".py",
   "mimetype": "text/x-python",
   "name": "python",
   "nbconvert_exporter": "python",
   "pygments_lexer": "ipython3",
   "version": "3.11.11"
  }
 },
 "nbformat": 4,
 "nbformat_minor": 2
}
